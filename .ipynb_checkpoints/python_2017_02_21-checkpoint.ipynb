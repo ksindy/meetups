{
 "cells": [
  {
   "cell_type": "markdown",
   "metadata": {
    "nbpresent": {
     "id": "0308c1aa-4b12-4ae7-8694-002f7249106f"
    },
    "slideshow": {
     "slide_type": "slide"
    }
   },
   "source": [
    "# The Challenge:"
   ]
  },
  {
   "cell_type": "markdown",
   "metadata": {
    "nbpresent": {
     "id": "17e5af91-38b4-48a2-aba3-2f8317e7a2c0"
    },
    "slideshow": {
     "slide_type": "fragment"
    }
   },
   "source": [
    "### Find alignments. \n",
    "\n",
    "### Include locations and allow for fuzzy searches. \n",
    "\n",
    "### All this at a speed that does not piss off the user. "
   ]
  },
  {
   "cell_type": "markdown",
   "metadata": {
    "nbpresent": {
     "id": "afc28f64-1d7a-47cd-bf4d-ba9d1450cc5b"
    },
    "slideshow": {
     "slide_type": "skip"
    }
   },
   "source": [
    "---"
   ]
  },
  {
   "cell_type": "markdown",
   "metadata": {
    "nbpresent": {
     "id": "f32d953f-dfc3-4cf2-90b3-0d477873ad3f"
    },
    "slideshow": {
     "slide_type": "slide"
    }
   },
   "source": [
    "### An example of an alignment:\n",
    "\n",
    "### Does the pattern \"cac\" occur in the following sequence?\n",
    "\n",
    "### cactaagcacacagagaata"
   ]
  },
  {
   "cell_type": "markdown",
   "metadata": {
    "nbpresent": {
     "id": "1135acd8-a0c9-4882-8f86-e4e5b8662b3c"
    },
    "slideshow": {
     "slide_type": "fragment"
    }
   },
   "source": [
    "### yes!\n",
    "\n",
    "### *cac* taag *cacac* agagaata"
   ]
  },
  {
   "cell_type": "markdown",
   "metadata": {
    "nbpresent": {
     "id": "3fbb14cd-daa5-4e67-ad97-297187cd6f42"
    },
    "slideshow": {
     "slide_type": "skip"
    }
   },
   "source": [
    "---"
   ]
  },
  {
   "cell_type": "markdown",
   "metadata": {
    "nbpresent": {
     "id": "50d79813-43d0-4d51-9859-0c4cf84c1fbc"
    },
    "slideshow": {
     "slide_type": "slide"
    }
   },
   "source": [
    "### Here is a fast algroithm to determine if a pattern is found in a reference."
   ]
  },
  {
   "cell_type": "code",
   "execution_count": 1,
   "metadata": {
    "collapsed": false,
    "nbpresent": {
     "id": "d38f6e6a-1491-4fb7-ac9e-0b12901e7e88"
    },
    "slideshow": {
     "slide_type": "fragment"
    }
   },
   "outputs": [],
   "source": [
    "import datetime"
   ]
  },
  {
   "cell_type": "code",
   "execution_count": 2,
   "metadata": {
    "collapsed": false,
    "nbpresent": {
     "id": "df2dbe72-66e1-448b-9b1f-c6b8a4ab7fa4"
    },
    "slideshow": {
     "slide_type": "fragment"
    }
   },
   "outputs": [],
   "source": [
    "def find_in(reference, pattern):\n",
    "    start = datetime.datetime.now()\n",
    "    \n",
    "    if pattern in reference:\n",
    "        stop = datetime.datetime.now()\n",
    "        \n",
    "        print(stop-start)\n",
    "        return \"Yes\""
   ]
  },
  {
   "cell_type": "code",
   "execution_count": 3,
   "metadata": {
    "collapsed": true,
    "nbpresent": {
     "id": "60e1bbc9-16ca-4b5c-b567-56fcaa4a3068"
    },
    "slideshow": {
     "slide_type": "fragment"
    }
   },
   "outputs": [],
   "source": [
    "reference = 'cactaagcacacagagaataatgtctagaatctgagtgccatgttatcaaattgtactgagactcttgcagtcacacag'\n",
    "pattern = 'cac'"
   ]
  },
  {
   "cell_type": "code",
   "execution_count": 4,
   "metadata": {
    "collapsed": false,
    "nbpresent": {
     "id": "67e4b4ee-e116-4152-bc28-b49790d5ff7a"
    },
    "slideshow": {
     "slide_type": "fragment"
    }
   },
   "outputs": [
    {
     "name": "stdout",
     "output_type": "stream",
     "text": [
      "0:00:00.000013\n"
     ]
    },
    {
     "data": {
      "text/plain": [
       "'Yes'"
      ]
     },
     "execution_count": 4,
     "metadata": {},
     "output_type": "execute_result"
    }
   ],
   "source": [
    "find_in(reference, pattern)"
   ]
  },
  {
   "cell_type": "markdown",
   "metadata": {
    "nbpresent": {
     "id": "5dbd0c26-0a7a-490d-ba4b-41c7fa83bbb6"
    },
    "slideshow": {
     "slide_type": "fragment"
    }
   },
   "source": [
    "### Great! But this does not give us location information or allow us to perform fuzzy alignments.\n",
    "\n",
    "### O(1) - constant "
   ]
  },
  {
   "cell_type": "markdown",
   "metadata": {
    "nbpresent": {
     "id": "34ecd0e6-5b1e-47c4-b398-7464f0e65d7b"
    },
    "slideshow": {
     "slide_type": "slide"
    }
   },
   "source": [
    "### This function iterates through the reference using a 'window' the same size as the pattern."
   ]
  },
  {
   "cell_type": "code",
   "execution_count": 5,
   "metadata": {
    "collapsed": true,
    "nbpresent": {
     "id": "5bde1aae-e3d6-452d-be7c-30f7ac1dba06"
    },
    "slideshow": {
     "slide_type": "fragment"
    }
   },
   "outputs": [],
   "source": [
    "def pattern_find(reference, pattern):\n",
    "    start = datetime.datetime.now()\n",
    "    pattern_location = []  # Empty list to store location of alignments.\n",
    "    \n",
    "    for i, base in enumerate(reference):\n",
    "        query_pattern = reference[i:i+len(pattern)]  # slice \"Window\"\n",
    "        \n",
    "        if query_pattern == pattern:\n",
    "            pattern_location.append(i+1) \n",
    "            \n",
    "    stop = datetime.datetime.now()\n",
    "    print(stop-start)\n",
    "    return(pattern_location)"
   ]
  },
  {
   "cell_type": "code",
   "execution_count": 6,
   "metadata": {
    "collapsed": true,
    "nbpresent": {
     "id": "d0d6b634-7454-4cd0-acd6-8ad3a67ca63f"
    },
    "slideshow": {
     "slide_type": "fragment"
    }
   },
   "outputs": [],
   "source": [
    "reference = 'cactaagcacacagagaataatgtctagaatctgagtgccatgttatcaaattgtactgagactcttgcagtcacacag'\n",
    "pattern = 'cac'"
   ]
  },
  {
   "cell_type": "code",
   "execution_count": 7,
   "metadata": {
    "collapsed": false,
    "nbpresent": {
     "id": "28cccf13-25ac-4864-ae87-61bb8d11cdf3"
    },
    "slideshow": {
     "slide_type": "fragment"
    }
   },
   "outputs": [
    {
     "name": "stdout",
     "output_type": "stream",
     "text": [
      "0:00:00.000058\n"
     ]
    },
    {
     "data": {
      "text/plain": [
       "[1, 8, 10, 73, 75]"
      ]
     },
     "execution_count": 7,
     "metadata": {},
     "output_type": "execute_result"
    }
   ],
   "source": [
    "pattern_find(reference, pattern)"
   ]
  },
  {
   "cell_type": "markdown",
   "metadata": {
    "nbpresent": {
     "id": "59a980d2-259b-4f91-b64f-e0f296369f2a"
    },
    "slideshow": {
     "slide_type": "slide"
    }
   },
   "source": [
    "#### 00.000014 simple find\n",
    "\n",
    "#### 00.000057 window find\n",
    "\n",
    "### Looping takes 4 times longer but the location is now available. O(n) - linear "
   ]
  },
  {
   "cell_type": "markdown",
   "metadata": {
    "nbpresent": {
     "id": "b8d78a3d-d070-4eb1-83c9-c97170c5995f"
    },
    "slideshow": {
     "slide_type": "fragment"
    }
   },
   "source": [
    "### Now let's try it on a list."
   ]
  },
  {
   "cell_type": "code",
   "execution_count": 8,
   "metadata": {
    "collapsed": true,
    "slideshow": {
     "slide_type": "slide"
    }
   },
   "outputs": [],
   "source": [
    "pattern_list = ['acac','cag','ttat','agaa','ttatcaaatt',]"
   ]
  },
  {
   "cell_type": "code",
   "execution_count": 9,
   "metadata": {
    "collapsed": false,
    "nbpresent": {
     "id": "6785f03d-15c6-4989-ab8d-4b977afbe44d"
    },
    "slideshow": {
     "slide_type": "fragment"
    }
   },
   "outputs": [
    {
     "name": "stdout",
     "output_type": "stream",
     "text": [
      "0:00:00.000094\n",
      "acac [9, 74]\n",
      "0:00:00.000081\n",
      "cag [12, 69, 77]\n",
      "0:00:00.000097\n",
      "ttat [44]\n",
      "0:00:00.000053\n",
      "agaa [15, 27]\n",
      "0:00:00.000036\n",
      "ttatcaaatt [44]\n",
      "0:00:00.003474 final speed\n"
     ]
    }
   ],
   "source": [
    "start = datetime.datetime.now()\n",
    "\n",
    "for pattern in pattern_list:\n",
    "    print('{} {}'.format(pattern, pattern_find(reference, pattern)))\n",
    "\n",
    "stop = datetime.datetime.now()\n",
    "print('{} final speed'.format(stop-start))"
   ]
  },
  {
   "cell_type": "markdown",
   "metadata": {
    "nbpresent": {
     "id": "605003af-e83e-4438-b517-4a1c025304ef"
    },
    "slideshow": {
     "slide_type": "fragment"
    }
   },
   "source": [
    "#### 00.000057 window find\n",
    "\n",
    "#### 00.001089 window find with list\n",
    "\n",
    "### As you would expect each item takes 4 times as long as the simple find algorithm so looking for 5 items take 19-20 times longer. Two O(n) linear or O(n^2) quadratic"
   ]
  },
  {
   "cell_type": "markdown",
   "metadata": {
    "nbpresent": {
     "id": "1d72c011-915f-4912-9178-ce27a375560c"
    },
    "slideshow": {
     "slide_type": "slide"
    }
   },
   "source": [
    "### So what will this mean when we work with a large amount of ugly data....real data."
   ]
  },
  {
   "cell_type": "markdown",
   "metadata": {
    "nbpresent": {
     "id": "edf85e70-3a99-4591-a646-181dfde817aa"
    },
    "slideshow": {
     "slide_type": "fragment"
    }
   },
   "source": [
    "### The list: ~160 oligos (patterns) from one excel sheet (using xlrd) \n",
    "\n",
    "### Reference: 20,000 basepair portion of chromsome12 from human genom (UCSC DAS database).\n",
    "\n",
    "#### http://genome.ucsc.edu/cgi-bin/das/hg19/dna?segment=chr12:53960000,53980000"
   ]
  },
  {
   "cell_type": "markdown",
   "metadata": {
    "slideshow": {
     "slide_type": "fragment"
    }
   },
   "source": [
    "![title](ucsc.png)"
   ]
  },
  {
   "cell_type": "code",
   "execution_count": 39,
   "metadata": {
    "collapsed": true,
    "nbpresent": {
     "id": "e1fa3532-202b-4f37-a218-34c62dc361d0"
    },
    "slideshow": {
     "slide_type": "skip"
    }
   },
   "outputs": [],
   "source": [
    "pattern_list = ['CATGACCCCCCCCAAGAAGAAGCGCAAGGTGGAGGACGGAATGGACGCACAAACACGACG', 'TGGGGCCGCCGCCCACGGCGGGGGCGCCGCCGCCCAACTTGTTTGCAGCTTTCCATTGAGCTT', 'CATGACCCCCCCCAAGAAGAAGCGCAAGGTGGAGGACGGAATGGCTTCTAACTTTACTCAGTTCGTTC', 'TGGGGCCGCCGCCCACGGCGGGGGCGCCGCCGCCCAACTTGTAGATGCCGGAGTTTGCTG', 'ATGGACGCACAAACACGAC', 'ATGGCTTCTAACTTTACTCAGTTCGTT', 'TACTTGCATTTTTTCTAAACAC', 'ACTATAGGGAGACCCAAGCTGG', 'GAGGATTCTGACAGTGAAATATCAG', 'ATGTTTGGTGAGCCAAAAC', 'CATACTTACTTGGCTTGTTTGGGATAT', 'GCCTATGGCATTATTGTACGGA', 'TTACGCATAAACGATGACGTCA', 'AAGGCACAGTCGAGGC', 'GATCTGGGCCCTGAAGAAGGGCCCG', 'GATCCGGGCCCTTCTTCAGGGCCCA', 'ATGTTTGGTGAGCCAAAAC', 'CATGAGGGCCCTGAAGAAGGGCCCC', 'GATCCGGGCCCTTCTTCAGGGCCCA', 'GATCTGGGCCCTGAAGAAGGGCCCG', 'CTATCAGTGATAGAGAACGTATAAG', 'CAGAGGAGGGAAGAGAG', 'CTTCTTATCATCTCCATCTTTATGATG', 'CGTTCAGTGTCAGAAAATG', 'CATCTTGAGACACATGGG', 'GTGACATAATTGGACAAACTACC', 'GGGAGCTTGTATATCCATTTTCGGATCTGATCAGCACGTGATGACCGAGTACAAGCCCACG', 'CATAGAAGGCGGCGGTGGAATCGAAATCTCGTAGCACGTGTCAGGCACCGGGCTTGCGGG', 'TGCCTCTGAGCTATTCC', 'GCGCTGGAGGATCATC', 'AGCGGTTCCCGG', 'CCGCGCTGGAGGATCATCCA', 'GGGTCTGGGCAGCGCCGTCG', 'GGCGAAGAACTCCAGCATGAG', 'CATGGCGATGCCTGCTTGCCGA', 'GCAAGGAACGCCCGTCGTGGC', 'TCTCCGGGCCTTTCGACCTGCAGCCAATATGGGATCGGCCATGACCGAGTACAAGCCCAC', 'CAGTCGAGGCTGATCAGCGAGCTCTAGAGAATTGATCCCCTCAGGCACCGGGCTTGCGGG', 'TCCTCTTCCTCATCTCCGGGCCTTTCGACCTGCAGCCAATATGACCGAGTACAAGCCCAC', 'AATGATACGGCGACCACCGAGATCTACACTCTTTCCCTACACGACGCTCTTCCGATCTACGTTTACGCAGACTATCTTTCT', 'AATGATACGGCGACCACCGAGATCTACACTCTTTCCCTACACGACGCTCTTCCGATCTCTATTTACGCAGACTATCTTTCT', 'AATGATACGGCGACCACCGAGATCTACACTCTTTCCCTACACGACGCTCTTCCGATCTGATTTTACGCAGACTATCTTTCT', 'AATGATACGGCGACCACCGAGATCTACACTCTTTCCCTACACGACGCTCTTCCGATCTTGCTTTACGCAGACTATCTTTCT', 'CAAGCAGAAGACGGCATACGAGATCGGTCTCGGCATTCCTGCTGAACCGCTCTTCCGATC', 'CGTGCCTTTTCCCGCGAGGTTG', 'GCCTGCTGGGGAGCCTGGGGAC', 'CCTCTAGAAATAATTTTGTTTAACTTTAAGAAGGAGATATACATATGAGCGGCCGCGGCAAAGG', 'CAACTCAGCTTCCTTTCGGGCTTTGTTAGCAGCCGGATCCTTAACCGCCAAAACCATACAGG', 'CTCTAGAAATAATTTTGTTTAACTTTAAGAAGGAGATATACATATGGGCCATCACCATCACCATCACC', 'GTCTGTGTAGAAGACCACACACG', 'GCTCAAGCAGAGGCGGCCTCGGCC', 'GCTTCAAGTGGGAGCGCGTGATG', 'GGGGATCAATTCTCTAGAGCTCGC', 'ATTGGCTGCAGGTCGAAAGGC', 'CCGCTCTTCCGATCTGTTATGAAGG', 'GCAGGAAACGAAGATAAATCATGTCG', 'CGTAACAACTCCGCCCCATTGACG', 'CGCGGTCTCGGCATTCCTGCTG', 'AGGCCCGGCATTCTGCACGC', 'CCATTCTCCGCCCCATGGCTGAC', 'CTTGTCTGTAAGCGGATGCCG', 'GATCAGTTGGGTGCACGAGTGG', 'CCGCTGTTGAGATCCAGTTCG', 'CCTCCTCACTACTTCTGGAATAGC', 'AGGCCGAGGCCGCCTCTGC', 'CCTGACGGGCTTGTCTGCTCC', 'CCAAAATGTCGTAACAACTCCGCCC', 'GCATATTTGAGAAGATGCGGCCAGC', 'CAGCGGCCAATAGCAGCTTTGC', 'CACAAGTGGCCTCTGGCCTCGCACACATTCCACATCCAACGCGTGGGTTGCGCCTTTTCCAAGGC', 'CGAGGCTGATCAGCGAGCTCTAGAGAATTGATCCCCCGTCGACGTCAGGCACCGGGCTTGCGGG', 'CGTCGACGGGGGATCAATTCTCTAGAGCTCGCTGATCAGC', 'GGTTCCTGGCCTTTTGCTGG', 'GTGAAATACCGCACAGAGCAAAAGG', 'TGTTCTGCAGCGTGTCGAGC', 'TTACAGCGTGATGGAGCAGATGAAG', 'ACGCGTTGGATGTGGAATGTGTGCGAGGCC', 'ACTGCCCGCTTTCCAGTCG', 'CGACGATATGATCCTGATGCAGCTAG', 'TTTACGCAGACTATCTTTCT', 'CGGTCTCGGCATTCCTGCTGAACCGCTCTTCCGATC', 'CAAGAATGCATGCGTCAATTTTACGCAGACTATCTTTCTAG', 'GGTGCCTGACGTCGACGGGGGATCAATTCTCTAGAGCTCGCTGATC', 'CAACCCACGCGTTGGATGTGGAATGTGTGCGA', 'GATCCGTTGTAAAACGACGGCCAGTCA', 'TATGACTGGCCGTCGTTTTACAAC', 'GGAGGACGGGCAGACTCGC', 'CAACCCACGCGTTGGATGTGGAATGTGTGCGAGGCCAGAG', 'GAGTTGGTAGCTCTTGATCCGGC', 'GCAACTGCCCGGCTACTACTAC', 'CGTTGGCCGATTCATTAATGCAGC', 'CCGCACCGCTGTCATTAATCTGC', 'CCACTTGTGTAGCGCCAAGTG', 'GGATAATACCGCGCCACATAGC', 'GATCGGGCCCTGAAGAAGGGCCCGGGCCCTGAAGAAGGGCCCGGGCCCTGAAGAAGGGCCCCGG', 'GATCCCGGGGCCCTTCTTCAGGGCCCGGGCCCTTCTTCAGGGCCCGGGCCCTTCTTCAGGGCCC', 'GATCCCCGGGCCCTGAAGAAGGGCCCGGGCCCTGAAGAAGGGCCCGGGCCCTGAAGAAGGGCCCGGA', 'GATCTCCGGGCCCTTCTTCAGGGCCCGGGCCCTTCTTCAGGGCCCGGGCCCTTCTTCAGGGCCCGGG', 'CCACTCCTCCACCTTTGAC', 'ACCCTGTTGCTGTAGCCA', 'AATGATACGGCGACCACCGAGATCTACACTCTTTCCCTACACGACGCTCTTCCGATCTTGCAAGAATGCATGCGTCAATTTTACGCAGACTATCTTTCTAG', 'ACCATTCCCAATGCCTGAA', 'TGCATACCTACCCAATGTATGG', 'GGCTTAGACCCTCAGGT', 'GCTCCCTCTCTCCACTC', 'GGACTCATGACCACAGTCCATGC', 'GGAAGGCCATGCCAGTGAG', 'CCAAATTCGTTGTCATACCAGG', 'ACACCCAAGCTCGTTGGG', 'CCTTGCCTGCATTTCTCTGC', 'CAGAAAGGTCCTGCTCCGC', 'CCCCTCCTTCCTCTCGCC', 'GTCCCTAATATCCCGGAGGT', 'GCAGGCTTCTAAATCCGTTC', 'GATCGGAAGAGCGGTTCAGCAGGAATGCCG', 'AGAAAGATAGTCTGCGTAAA', 'CTAGAAAGATAGTCTGCGTAAAATTGACGCATGCATTCTTG', 'GTTGACATTGCGAAGAGCGACAAAG', 'GATCTGTTGTAAAACGACGGCCAGTC', 'TTAAGACTGGCCGTCGTTTTACAACA', 'AATGATACGGCGACCACCGAGATCTACACTCTTTCCCTACACGACGCTCTTCCGATCTACTTTTACGCAGACTATCTTTCT', 'AATGATACGGCGACCACCGAGATCTACACTCTTTCCCTACACGACGCTCTTCCGATCTCAGTTTACGCAGACTATCTTTCT', 'AATGATACGGCGACCACCGAGATCTACACTCTTTCCCTACACGACGCTCTTCCGATCTGTCTTTACGCAGACTATCTTTCT', 'AATGATACGGCGACCACCGAGATCTACACTCTTTCCCTACACGACGCTCTTCCGATCTTGATTTACGCAGACTATCTTTCT', 'AATGATACGGCGACCACCGAGATCTACACTCTTTCCCTACACGACGCTCTTCCGATCTACGTTTACGCAGACTATCTTTCT', 'AATGATACGGCGACCACCGAGATCTACACTCTTTCCCTACACGACGCTCTTCCGATCTCTATTTACGCAGACTATCTTTCT', 'AATGATACGGCGACCACCGAGATCTACACTCTTTCCCTACACGACGCTCTTCCGATCTGATTTTACGCAGACTATCTTTCT', 'AATGATACGGCGACCACCGAGATCTACACTCTTTCCCTACACGACGCTCTTCCGATCTTGCTTTACGCAGACTATCTTTCT', 'CAAGCAGAAGACGGCATACGAGATCGGTCTCGGCATTCCTGCTGAACCGCTCTTCCGATC', 'CGGATTTCCTTGAAGAGAGTGAG', 'CGGATCTGGAAGTTCTGTTCC', 'CGCTGTGCAGAAGCAGAGAGG', 'GTTACCAGGTCCGCGCTCTC', 'ACGGATTCGCGCTATTTAGA', 'GTGCTTGTCAATGCGGTAAG', 'CACGCGGTCGTTATAGTTCA', 'GACGCATGATTATCTTTTACGTG', 'CGCAATTAATGTGAGTTAGC', 'GGTGTAAACCTTAAACTGCC', 'CAGGCAGACATCTGTGAATCG', 'GTTCTGCCCAAGGGTTGGTTTG', 'TTAATCTAGCTGCATCAGGATCATATCGTCGGGTC', 'GGTAGAAAAAGCAACCACGAAGC', 'ACATAAACCTCTGTCTGTGAGTGCC', 'GGCAGCACAGAGCAACTCTA', 'GAGTGCAAAGTCCCGTTTG', 'AGCCTTTGGAAGCTCTTGAA', 'GTGTCTTGGAGAGGCGTGTA', 'AGAAGAGTTAGTTGACTATACAGC', 'ATGTTTGAATGTGATAACCGTCCT', 'AATTACCGATCCAATGCGAAGCTTTAAGAC', 'AATTGTCTTAAAGCTTCGCATTGGATCGGT', 'AATTACGTAAGCTTAATGCCGATCCAAGAC', 'AATTGTCTTGGATCGGCATTAAGCTTACGT', 'TTGAGAAGAGTTAGTTGACTATACAGC', 'CAAGCAGAAGACGGCATACGAGAT', 'AATGATACGGCGACCACCGAGATCTACACTCTTTCCCTACACGACGCTCTTCCGATCT', 'AATGATACGGCGACCACCGAGATCTACACTCTTTCCCTACACGACGCTCTTCCGATCTATCACGTTTACGCAGACTATCTTTCT', 'AATGATACGGCGACCACCGAGATCTACACTCTTTCCCTACACGACGCTCTTCCGATCTCGATGTTTTACGCAGACTATCTTTCT', 'ACAGTAGCTGTATATAAAACCAGTGATGTTTGAATGTGATAACCGTCCT', 'TGCTGTATAAAAAACCAGTGGTTATATGTACAGTAGCTGTATATAAAACCAGTGGTTATATGTACAGTAGCTGTATATAAAACCAGTGATGTTTGAATGTGATAACCGTCCT', 'ATGTTTGGTGAGCCAAAAC', 'GATCGGAAGAGCACACGTCTGAACTCCAGTCACATCACGATCTCGTATGCCGTCTTCTGCTTG', 'GATCGGAAGAGCACACGTCTGAACTCCAGTCACCGATGTATCTCGTATGCCGTCTTCTGCTTG', 'AATGATACGGCGACCACCGAGATCTACACTCTTTCCCTACACGACGCTCTTCCGATCT', 'CAAGCAGAAGACGGCATACGAGATATCACGGTGACTGGAGTTCAGACGTGTGCTCTTCCGATCCGGTCTCGGCATTCCTGCTGAACCGCTCTTCCGATC', 'CAAGCAGAAGACGGCATACGAGATCGATGTGTGACTGGAGTTCAGACGTGTGCTCTTCCGATCCGGTCTCGGCATTCCTGCTGAACCGCTCTTCCGATC', 'AGCCATCAAGGAGGCTGTAA', 'CCAGGAAGTCCGTAGAGACG', 'GAAGTTCAGGCATTGGGAAT', 'CAAACGGGACTTTGCACTCT', 'GTGAACCGTCAGATCGCCTGG', 'TGTCCAATTATGTCACACCA', 'CCATTCGCCATTCAGGCTGC']"
   ]
  },
  {
   "cell_type": "code",
   "execution_count": 40,
   "metadata": {
    "collapsed": false,
    "nbpresent": {
     "id": "39127cf3-d26f-4def-afa3-e6d05ee0be38"
    },
    "slideshow": {
     "slide_type": "skip"
    }
   },
   "outputs": [],
   "source": [
    "reference = 'CATGACCCCCCCCAAGAAGAAGCGCAAGGTGGAGGACGGAATGCACGCACAAACACGACG aaactatcagtcctgagaagactgttgtcaattaatgccttgtataactg gattgctcaggagaagggagagtaaggcagtgaaagggaaggggcaatag gtttgaggaagacattattggtttcttaacccaacccccatttttcaacc attttctcttgcttgcctcactataaaggctgaaaagcaagatattcctt tttcctatgcagctggtattaaacctgtcacacagttcaggccaataaga caatgaaatccaccgtggtgggggtggaggatggcacttctgatgtaagg cttttgtctccttataaaagggaaagccagaacaagagagttcctgatgc tacctgccccttatttctttcccatcctctgatagtgaggcaacaggaat gaggattaaaaggtaaaagctaaaaatggtacagcagagagaaagaacct aggtccttgataaacttgcttagctgctgaaacagtcctaattctggaca ccttgtgttataaatgttgacacagtttttttttgtttttgtttttgctt tgttttgagatgcagtcttgctctcttgcccaggctgcagtgcaatggca tgatcttggctcactgcaacctctgcctcccgggttcaagcaattctcct gcctcagcctcctgagtagctgggattacagacacacgccaccatgccca gctaatttttgtatttttagtacagatggggtttcaccatcttggtcagg ctagtctcgaactcctgaccttgtgatccgcccgcctctgcctccctaag tgctgggattacaggcgtgagccattgcgcccagcctgtgttcacacagt tttaagctactgttaggtatttgcatctgaaaccattcctaaccaatata cgattttcaatatgtatagattctacttcattttctatctaaggaactta gaaatggaatatacaagaaattattttattctacatcttcatgaatattt atcagttgtatcctaatgctgaattctgttttctttttcacataatatac caaataaattccatctcatcaccacctattgcctcaagcttccttagaaa caatggctatacactgggcttttaggaagaacaagatggtaagagagtgg caccttacaatgctgctttggaaactggggcagttaaagatcactcctca ctaaagaatggagttttagactggagcagcatgttttcttatttctcgct gcccctcttcctcaatacccagtgtttggctttttatcaaactccagggc actcttgggaactacgcttaagaattaacaaggatagatccattatcttt ccttagatggcagctacttacttggatgggttaaatgctcaacaaacttt aaaggaccagtgcctaggaggcagagaaatcccagcagcaattcagccag gcctggtcctatgtcagttacatggctaattgctttctccacagctcttg cctaatggtagaccttttagtattctcctatccagatgtagccacttagc tggggtaccattaaagtccccaaagggataactgtagttcttaacaaagc aagaaaaggttattttaaaatcaaaataattatcacacagccctattaag ttcttgttgacattatacatttctatttttcaatctcatctctctcccca aattcttattaggatgttatgaggtacaaaatccttgaaaaacgtatcaa atacttttatcttctaatttgctacacattaagtgttacaatttctggat ctcacaaatgggtgggaaggacaaagttacagagtgaaaagtatgaacct actacattgtggtttggcttgagctgctgaaaatttcactgtggaaaaac tatactgtaaatacttcctgataatacaggagttttaaaattttgaatgc ttacaatgcattcagagtagagcacatacaagtcagtactgagaccacaa taacaaaaaccctgccctgatctttaaggccttatgcagtttagtactgt aacagtcaagccaaaagaaaatatataactggaaggtgaggagggggaga gaaccaatgagcgtgctcacatgcactcgtctctaaaaccgtctctaaac ttggttcaagtttacaaggagattacgcacacacactctctctctctctt tctctctctctccttccctcactttaaaataataccaaaatacagtatta agcttttgttttaaacaagctatcaaagcttacaggcccagggactcgga aaccacagaagaggttgcagcctggtaaagaaataggcaacgataaaggc tcaaatagtttggcaggtcttctatataaaccataaactggtcaagtgct ctaattctgccctgctatcttaatttaatgcagcaaaaaattcttaccat aatttgttgacatattcatctgattatctttgtgtctaaccaggaaagct ctgataagctatctttagttttacaaagtcaggcaaatggaaaacttcaa ttttggatgtttactttctaaccataagtgatattttttagaatgctggc cacagactagaggtctacactcaaagaaggcaggcaggcaggtaggggca aagaatgaaattgcagctaagcactgtggctcatgctggtaatcccagct acttgggaggctgaggcaggaggatcacctgaggaatttgagacaagcct gggcaatatatattgaaatcctgtctcttaaaaaatttaaagagtagcca ggcatggtggcacatgcctgtagtcccagctacttgggaggctgagaaag agagagagagaaaggaggttcccttgagcccaggtgtttgaagctgcagt aagctatgattgtgccactgcactccggcctgggcgacagaggagggctc catgtctcttaaaaaaaataaaaaataaaaaaggaatctacactgcctat cagtaacacttatccacatacttctagacagtcatagtgatccaacacag aagaacagcagcagctggggaaattgtcttgttcctgtctcatctcctgc tgctctccatcacagtactaaactacttgcattttttctaaacacatcat gctgtttcattctcttgcatctgctattctcttatatgtggaatgttctt ctctactttctctgggaaacttctatttacctttcaaaacctgttaaagc atcatttcctccaggaagccttctctgatgtttaccagaattctcagtac ttgcaaatatttacattattatatttatcatattagaatgtaattacatt ttcatgtgtctgactcccctataaggcagtgaatactttcatgtcttata catctctctgtcactagtacctagcatggtgtttggcacattgtagatgt tcaaatttttttttaatttttttttttgagatggagtctcgctctgtcgc ccaggctggagtgcagtggtgcaatctcagcttactgcaacctacctccg cctccctcgttcaaaggattctcctgcctcagcctcctcagtagctagga ccacaagcatgtgccaccatgcccggctaacttttgtatttttggtagag acggggtttcaccatattggccaggctggtctggaactcctgaccttgtg atctgcctgccttggcctcccaaagtgcagggattacaggtgtgagccac cgcgcctggccattcaaatattttttattgagctgaacccacagaggctt atgaaggtctgattgaattgagaaaattattcatggactgatttctggaa acctgacctcaggcttcctcaaggttagagataccaggcagatacataaa gaataaaatcaaatgccttgatcttatttttacaaaggatttgtgtgcac taagtctctcaccagagacatttgggaaaacccatgttcaatttttgatt acggtctaaaatgataacaaattgttccaattatatagaacctgccactc cattatatcataatgtagacaaaccaggaagtgctaatgggatcctatta accttcatatcacattacaacagcctaggggaagagaggagagaaaggaa aatacaaaggccattaaaaatactgatgggtgtcaggcaggggctaagag gttggaacttccagtcctcacctctaggtaacaactcactacagtatagc aaatgcagatttcaaccatagtatagtaggccggtaatgcctccagtata gacctgtcctgccaaaatacaacataccaggtggcttaaacagaacttta ttatctctcagttctggaggccagaggtgttaccagggttggtttcttct gaaggatgtcagcaagaatgtgtttcatgtctctcctagcttctggcttg ctggcagtctttggcattccttgacttgtggcagcataaatccaaccttc acatagtgttctcctgtgtgcgtgtgtgtgtgtgtgtgtgtgtgtgtgtg tgtgtgtgtgtatgtccaatttcctctttttataggacaccagtcatatt ggagtaggggcccaccttacttcagtatgacctcatattaactaatgcca tctgcaatgaccctgtttccaaataaggtcacattttaaggtacctgggg ttaagacttcaccataaaaattcaattcaatccataacagctcacaaaga tatatcaatgttctaattcttagaagctgtgaatgttaccttatatggtg attaaattaagggctttgagatgaggggattatccagatgggccctcaat gctatcacaagcgtccttctaagacagcagcaaagggagattagaaacac acagagaggagagggcaatgtgaagaaagacatagagattgaagtgatgt aaccacaagccaagaaatgccggcagcaactagaagctggaagaggcaag gaaaggattctcctggagagccttctcaggaggatacggtcctctttaat atcttggtgggcttttggtctcccaaactgtgagataataaatttctttt ctttcaagccacctagtttgtggtaatttgttataacgcctacaggaaac taatatacatattatcttttcataatttaaacataattatctccattcta agagcagcagaggagcaggcagataacagacaataggtgacaaactccaa gcaattatacccataaccacaaaccactgtaaccagcatttttttaaaag ggaaagccaggcacagtggtgtgcacctgtagtcccagctactcagaaga ctgagaagggaggatcatttgagcccacaagtttgagtccagcctgggca acacagtgagactccatctctttaaaaaaaaaaaaaaagggagcagggag acaaatccgcactgaaatatcaccaccacaacaaaagaaactacagagta catcacactagataagggtgaatactattacatggctctctaatttctat tatataaaaaatgtgttttggttgggcacggtggctcacgcctgtaatcc cagcactttgggaggctgaggcagccagatcacctgaagtcaggagttaa aaaccagcctggccaacatggcgaaacccggtctctactaaacatacaaa aattagctgggtgtggtggcgcacacctgtaatcacagacactcggcagg ccgaggcaggagaatcgcttgaacctgagagacggaggttgcagtgagcc gagacagtgccactgcactccagcctgggatacagagccagactccatct caaaaaaaaaaaagaaaaagtgttttaagttgcaatgtaaaatgtatttc ttactcgattcataaaccaaaaggactgagacttctggtttttggcttgg catataaagagcttagaataacagttgtcactctatcctaacaacaaata aaaagctgaactgaaaaatcttaacaactcttcatagatctatcagagaa gtgagttcacagggcaaactgctgttccccaaattggcagatatagagaa tcacaacctaaaggagcagaaacccatgagctgaaacctgcatgacaatc aagtgccaggggaggaaaacctgaactataattgatgaagctagaggcca agtgtggacaagtctgagagttaaaaatgccagggagacccagtcacaga ggagcccccacaccgttgtgagatttacctccaggttctcccagctctac taggttcttacggtgaatatcaggggaaatttcttgtgcttttggcgggg ggaaagggaaaagtacagtagcctccccttacccgtggtttcactttcca tggtttcagttacccatagtcaactgcagttcaaaaatagatgagtactg gtcgagtaaggtggctcacacctataattccagcattttgggaggctgac gtgggaggaccgcttgagcccaggagttcgagactagcctgggtgataga gtgagaccctgcctctatttaattttttttttttttttgagagagaatct cactctgtcacccaggctggagtgcagtggcacaatctcagctcactgca acctccgcctcctgggttcaagcaattcttgtgcctcagcctcctgagta gctgggattaaaggtgtgcaccaccacacccagctaattttgtgttttta gtagagacggggtttcaccatgttggccaggctggtctcgaactcttggc ctcaagtgatctgcccgcctcggcctcccaaagtgttgagattacaggcg tgagccactgtacccggccaaaaaaaaaaaaaaaagatgagtacagtaca ataagatattttgagagagagaacacatttatataacttttattacagta tatttttataactgttctattttattattagttgttaatctcttactgtg ctgaatttataaattaaactttttcataggtatgtacatatagggaaaca tagtatggtcatccctccatatccatgggggactggtttcaagacccatg aggataccaaaatccacagatactcaagtccctgatataaaatggtgtag tatttgcatataaaatgtgcatatcctcctatatactttaaatcatctct agattattataatacctaatacaatgcctacatatcacttcattcgtgtg gattcaatgtagtgcttggcaggcagcaaatttaagttttgcctttttga attctgcggaattttttttttctgagtattttttacctatgattgtttta atccatggatgagaaacccatggatacagagggctgactgtatatagggt ttggtactatctggtttcatgcctccactgggaatcttggaatgtatcct tgtgaataaggggggactactggaaccattttgaaataccccagagcatt ctgttcttctttacaaggcctgccctcaggagaaaatactttaccagagc ctaacctgctgcggttttatcatagactaactaacctgggagaagggtaa tacccaattctacccccgtctagccatcctgtcccatccaagtggggaaa agaaaacaaaactgagaagcactggtgaagtttatagtccagggcatagg ctcaccaaaatattgagacctaatcatacgacagtagaacacttccagtt cccctccctgtcatacctcatcacaactttactagggacgtatttaccaa ttccttttacccagtatatcatgtccacctttcaacagaaaattgtaagt catattaaaaggcaaaaatacactctgaagaaactgaataagcaccagaa ccagtgagatatgacagaactgtcagaattaacagtccaggaattccaaa acactatgattaacacaacaacatgtaagaacagatggataatataagaa gagagatgaaaattctaagaaagaataaaaaagagaaacttttaggctcc tgaacacatggaggtgcaggagtgtgacaggcccaggaagggcatggaag cattgcaccccttcccaccaatgcatctccttatctggttttcatccgta tccttcataatatcctttataataaactggtaaacatcagctttccacag gctttctttctccatggtgagcaggacaatgtcctaggaccccagagagc caggagagagcaagatcaaagccagaaatccaactctgtccctactgccc actggtcttttccagtcaacacttcctcagcaaatacatgccacatagcc gtgctgctcagaggtctcctggcttatatgcagaaaaggccctgtggccc aggatcacagtagcaacaatattctcatcaaagcagccagagtgatacag cagaaggtcaagagacagaaaaaagcactaaatcctggtttataagagac aggcagacttcaagggttgtctcctaagacaataagtaagctcaagggga agcttataaccagtaagcttcagtggtgaaaaaagagcctagccaggccc aaatgggaaatcctaaagaaatagacatatattaaaagaaatagtaaatt caagatggggagcattcaagtgtgcagagggtgagcaagactttagtcag aaaataaagttactctttcttgccattgagcttaagccaaaaaaaaaaaa aaattaaagaaaagaaagctacttggctgggcgtggtggctcatgcctgt aatcccagcactttgggaggccgaggcgggtggataacctgaggtcagga gttcaacaccagcctgaccaacatggtgaaaccccatctctactaaaaat acaaaaactaggctgggtgtggtggctcatgcctgtaatcccagcacttt gggaggccgaggcaggcggatcacctgaggttgagagttcgagaccagcc tgaccaacatggagaaaccctgtctctactaaaaatacaaaattagtagg gtgtggtggtgcacgcctgtaatcccagctgctggggaggctgaggcagg agaatcgcttgaacccaggaggcggaggctgcggtgagccgagattgtgc cattgcactccagcctgggcaacaagagcaaaactctgtcttaaaaaaaa aaaaaaaaaaaattagctggtttggtggtacacgcctgtaatcccagcta ctcaggaggccaaggcagaagaatcacttgaacctgtgaggtggaggttg cagtgagccaagatggcaccactgcactccagcctgggcaacagcgagat gcagtctccaaaaaaaaaaaaaaaatctactcatacacaaaaaagcacac tccaagcattagtttttcatatgcagggagtgatgagtcagcattactct tgcaccagaatatacatgcaggagggaagtcctatgtgtgcaataagtga gggcggggctttagaaataagtcacacttcacataccagaggacacactc agggaagaaggctttcttgtgaaaggagtgtgggtaagacttcttataga aggcaattctcactgcatatcagaaaacccactcagggaagaagtctttt gtatgcaaggagtgtaggtaagactttacccaaaagtcaactgtgcatga gagaacacacttggcagagaagccttatagatgccaggagttgtggacaa aggattaggtataaatcatcctatgataaacactggaaggcacactcagg ggagaaggctttgttgtgcagggagtatgggcaagacttcagcttgaaga catctcttaccagacaccagaggacacacccagggaagtaactctgcttc tttaaaaagctgtagccaagactgtgcaacttgtttatggatatatcacg aaggcagaagggatccagagggctaaaagaacctgaacttggcccaagtt attcccagagattctgagaaaagaggcactgagagcctcaccaacctcct tagacggcacagcagtctaggacccctccaccaaaccttccctccctctg ttcttccctctggcagctctcccaaccttccttagtgctatggtttgaac aatgttgtcccttgcaaaattcatgttgaaacctaatcaccaatgtaaca ttattaagagaatgtttaggatgtggttaagtcatgaggatggagccttc atgaatggcattaggtacccttataaaaggatttggcaaaagatttggca tcactttaccctgtcctccaactgccatgtgaggacacagagctcctctc ctctggaggatgctatgtcaagataccatgttggaagcagagagcagccc ttgtgagataaccaaatctgctggcaccttgatcttgaacttcctagctt ccacaactgtgagaaaataaatttctgttctttataaaacaaacaaacaa acaaacaaacaagaaacgctacagataaaaaacactgtaacagaaatgaa gaatcccgaccaggcacggtggctcatgactgtaaccccggcattttggg aggctgaggtgggtgaatcacttgaggtcaggagttaaagaccagcctgg ccaacatggtgaaacccccgtctctactaaaaatacaaaagttagtcggg catggttgcgcaagactgtagtcccaactactcaggaggctgaggcatga gaattgcttaaacccaggaggtggaggttgcagggacctgagatcgtgcc actgcaatccagcctgggtgaccaagagagaatctgtctcaaaaaacaaa aaagaaatgaagaatgcctatgatgggctcagtagtagactggacatagc tgagcaaagaatctttgaacttgagctgggcatggttgcatgtgtctgta gttccggctacttgggaggctgaaattggaggatgacttgagcccacgag tttgagaccagcctaggcaacatagtgacatagtaagacactgtctctaa aaacaaagaatctctgaacttgaggatatgacaatagaaacttccaaaac tggaaagctaagaaaagaagaactaaaaaaaaaataacaacaacaaaata tccaagaactgtgggacaaatacaaaaggtataatatgtgcataatagga gaaagaaagaaacacacacggccgggcgcggtggctcattcctgtaatcc cagcactttgggaggccgaggcgggtggatcacgaggtcaggagatcgag accatcttggctaacacagtgaaaccccgtctctactaaaaatagaaaaa attagctgggcgcagtggcgggcgcctgtaatcccagctactcgggaggc tgaggcagaagaatggcgtgaacccgggaggcggagcttgcagtgagccg agatagcgccactgcagtccggcctgggagaaagagcgagactccgtctc tgaaaaaaaaaaaaaagaaagaaagaaagaaagaaagaaacacacacaat atttggtattgctaaacaataactaaagcgataactaaaaatgtcccccc aaatcaatgtcagacaccacaccataagaacaataagcaggctaaatgac aaacaaacaaacaaacaaaaaactacacctagatatatcatatccaaact tcagaaaatcaaagagaaagagaaacatcttgaaagaaggcagagggaaa atcaccttacctacagaggagcaaaaacaagaattacatctaacctctca gaaaccatgcaagcagagagtacagtcaaagagagaaaaccctatcagcc tagaattctgtatcctgcacaattcttcagaagaaaggccacatgtggtg tggctcacgtctataatcccagcacggcagatggattgcttgtgtccagg agtttgagactagcctgggcaacacagtgagatctcatctcaatgaaaaa taaacaaaattagccaagtgtcctggcgtgtacctatagtcctagctatt tgggaggctgaggtgggaggatcgcttaagcccaggaggttgaggtgagc tgagatcacaccactgcactctagcctgggcaacacagtgagatcttctc tcaaaaaaaaaaaaaaaaaaaagtgaaggaaaaataaagactttctcaag caaaccaaaatacggagaaattgttgcccacagacttgccttgccagaaa tcttaaaagaagttctttagagagaaggaaaatgagctaggcacggtggc tcatgcctgtaatcccaacactctgggaggctgaggcgggaggactgctt tagcccgggagtttgagatcagcctgggcaatatcagcagaccctatttc taacaaaaataaaaataaattagctgggcatggtggtgcttatctgctgt tccagctactccagtggctgagatgggaggattgctggagccagggatgt tgaggctgtagtgagctacaaccttgccactgcaccccagcctacgtgac acagtgagatgctgtctcaaaaaaaaaaaaaaaaaaaatatctgggattc gaatcagccctctccagctccaagcacactgggatccttgccgttggagg ttgctgttggcttctgcccgtgctgtgtattgagatctgcaaccaagcat gggagcttacgaaggcacctggtggtttctaggtaggaaaacagtgtgga tgccagatgtggtgcctcacacacaacagcactttgggagcctgaggcag gcagatcacctgaggtcaggaattcgagaccagcctggccaacagagaga aaccctgtctctactaaaaaaatacaaaaaaaattagtcaggcatggtgg tacctgtagtccctgctacttgggaggctgaggcacaagaatcacttgaa cctgggaggcagaggttacagtgagctgagatggtgccgctgcactccag cctgggagacagagcaagactccatcttaaaaaaaagggccgggtgcagt ggctcacgcctgcaatcccagcactttgggaggccaaggcgggcagttca caaggtcaggagttcaagaccagcctggccaaaatagtgaaatgccatca aaatagtgaaatgccatctctactaaaaatacaaaaattagccgggcatg gtggtatacacctgtaatcccagctactcaggaggctgaagcaggagaat tgcttgaacccaggaggcagaggctgctgtgagctgagatcgtgccactg cactccaccctgggagacagtgcgaaactccgtctcaaaaaaaaaaaaaa aaaagcgtggagtgtgcgtaattgtgtttgaggaagagatggtcactgtc tctatggtagtgtctttagggaactatctgtgcctggatcctggggaatt atgacaaagcagtctgcaggtttggcatgaactctgaactttctccctct gcaggatcttcaatagaaaggtcctgtcctgaggaaacactcagaggcac ttctcttgcttgtgaagcctgccagcatgtatgttttggtcagcactgag atgcacatgacaaattgtgcgcaatgcctcagcacagcccaacggggttt tttctgtttacacttgactagccttggacagtaggaggaaaccttaaata tttccttctactctcacaaaccctttatctttttttttgagacggagtct cactctgtcggccaggctggagtggcacgatctcagttcactgccacctc cacctcctaggttcaagcgatcctcctgcctcagcctcttgagtagttga gactacaagcgcacactgccacacctggctaatttttgtatttttagtag agacgaggtttcaccatgttggccaagctggtctcaaactcctgacctca ggtgatccacctgccttggcctcccaaagtgctggaattacaggcgtgag ctaccacacccggcctcacaaaccttttatctaataaaacaaaattactg ccaaaaaaaaaaaagagacaatgtcagagtcaatcaaaaaacaagaccta actgtatgttgtatatgagaaaacccctttaatacaaataaacatataga ttaaaagtaaaaagataggccgggtgcggtggctcacgcctgtaatccca gcactttgggaggccaaggcgggtagatcacaaggtcaggagatcgagac catcctggctaacacagtgaaaccccatctctactaaaaatacaaaaaat tagctgggcgtggtggcgggtgcctgtagtcccagctactcagaaggctg aggcaggagaatggtgtgaacccgggaggtggagcttgcagtgagcggag atcacgccactgaactctagcctgggtgacagagcgagactccatctcaa aaaaaaaaaaaaaaaaaaagtaaaaagataaagatataccctaatccaaa aaaggtgagaatagctatattaattttagaaagaaagatatcaggaataa agacgagcattgcataatgataaaatggtcaatactccaagatgacatac aaattcttaatgcaggccaggcatggtggctcacacctgtaaccccagca ctttgggaggccaaggtgggtggatcacttgaggtcaggagttcgagacc agcctggtcaacatggtgaaaccctgtctctactaaaaatacaaaaatta gccaggcatggtagcatgcacctgtaatcccagctactcaggaggctgag gcaggagaaccatttgaacctgggaggtagagcttgcagtgagccaagat tgtgccactgcactccagcctgggcgacagagcaagattccatctcaaaa aaaaaaataaataaaaaataaaaataaaaataattaatgtgtatgtagct aacaacagagcatcaaaatatgtgaaggaaaaactgacagaactgcaaag agacagatagatgaacctgctcttatattaacagttggagactttaacac ccctctatcagaaatggacgtatccagcaggcagaaaatcagtaaggaca cagttgaactcaacagcaccatcaatcaactggacataattaacatctat agattaattcatccaacaacagattatacattcttcttagctcacatgga acatttaccaagactgaccacattctgggccatataacacaccttaacaa gtttaaaagaaatcacacaatgtctgccctcaaactgcaatggaattaaa gtagaaatcagtgacagaaagatagctggaaaatatgaaaggacttagat taaataacatacttctaaataatacatgaagcaaaaaagaaatctccaga gaaattaaaaagtattttgaactacatgaaaatgcaacttataaaaattt gtaggatgcagcagaaacagtgattagtgggaaactgatagcagtgaata aacatactagaaaagaaaaagatctaaaatcaataatctaagcttccacc ttagaaaactagggggaaaaagagcaaattaaatccaaagcaagcagaag aaaagaaataataaaaattagtgtaggtcaggggtggtgccccatgccta taatcccggcactttgggaggctaaagcaggaggattgcttgaagccagg agtttgagaccagcctggtcaacactgcaagaccatgtctctataaaaaa taaaaaaattagccgggtatggtggtgctcaggaggctgaggcgggaaaa tcatttgaactgaggagtcggaggctatagtgagctaagatcacatcact gcactctagcctgggcaacaaagtgacaccctgtcaaatgaatgaatgaa caaaaaaagagtggccaacatggtgaaaccccatctctactaaatacaaa aagaaataaaaaaattagctgagcatggtggcgcgcgcctgtaatcccag ctactcaggaggctgaggcaggagaatctcttgaacctgggaggtgtagg ttgcagtgagccgagatcatgccactacactccagcctggcgacatagca agactctgtctaaaaaaaaaaaaaaaaaacctactataggcctggcatag tgcctcatgcctgtaatcccagcactatgggaggccaaagtgggaggatt gcttgagactaggagtttgagaccagcctggggaacataacgtgaccctg tttctaccaacaccccccgccccaaaaagaaaaaaaacctactagaaagc tacagtagcaaacatagtgtggtactagaaaaagaatagacacataaatt actatatatattttatttatttatttattttgagacggagtctcgttctg tcgcccaggctggagtgcagtggcgagaccttggttcactgcaagctccg cctcctgggttgacgccattctcctgcctcagcctccggagtagctggga ctacaagtccccgccaccacgcccggctaattttttgtattagccgggat tagtagagacgggatttcaccatgttggccaggatggtctcatctcctga cctcgtgatccgcccacctcggcctcccaaagtgctgggattacaggcgt gagccaccgcacctggccatcaattactatatttatgtgaataaacagag ggtccagaaatagacccacataaatatagtcactgatctttgacaaagaa gcaaaggcaatacaatgaagcaaagataatcttttcaacaaatggtgctg gaacaactggacatccacatgcaaaaaaatgaatctagacacatgcttta tagccttcacaaaacttaaaatggatcacagacctaaatgtaaaatacaa aactataaaatttctagaagataatataggggaacacctacaccaggggc cacacagcagggggtgagcagcaggcaagtgagtgaagcttcatctgtat ttacagccactccccatcacttgcattacagccagaactctgccttctgt cagatcagtcgcagcattagattctcaaaggagtcccaaccctactgtga actgtgtatgtgagggatctaggttgtatgccccttatgagaatctaatg cctgatgatctgtcactatctcccatcacccccagatgggaccatctagt tgcaggaaaacaagctcagggctcccactgattctacattatggtgagtt gtataattatttcactattatattataatttaataatactataaataaag tacacaataaatgtaatttgcttgaatcccccccacccccagtccatgaa aaaaattcttccaggaaaccagtccctggtgtcaaaaaggtgggggacca ctgacctagatgacttttgtatggcgatgactttttaaatacaacaccaa agtcatgatccatgaactaagtaattgataagctggactgtgctaaaatt agaaatatctgctctgtgaaagacaatgtcaagaaaatgtaaagacaagc tacagaatgggagagaatgtaaaagatacacctgataaaggactgtcata caaaatacacaaagaactcttaaaactgaacagtaagaaaatgaacaacc tgattaaaaaatgggcaacggactttagtcagacacttcaccaaagaaaa atacagatggcaaataagcatgctcaacatcatgccatcagggaaataca aatacagataattgttattagtattattttttgagacagactctcactct gtcacccaggctggagtacagtggcgtgatcttggctcactgcaacctcc gcctcccaagttcaagcgattctcctggcttcagcctcctgagtagctgg gactacaggcacttgccaccacgcccagctaatttttgtatttttaggag agacgggggtttcatcatattggccaggctcttctcgaactcctgacctc aggtgatccacccgccttggccttccaaaatgcagggattacaggtgtga gccacccggcaggcattaaattgttgtttaatgcaaattaaaacaacaaa atccattacacacctattagagtggccaaaatccaaaacactgacaacat taaatgttgataaggatgtggagcaacaagaactctcattcatttttggt gggaatgctaaataatatagccactttggaagacagtttgacagtttctt acaaaactaaacatagtcttaccataaacatagtattaccatatgatcca gtgatcacactcattgatatttacccaaatgaacagaaaacttatgtcca cacaaaagcctgcacatggatatttatatagcagctttctttactcataa ttgccaaatctcggaagcaatgaagatgtccttcagcaggtgaatggata aattgtggtacattcagacaatggaatattactcagcactaaaaagaaat aaggtatcaagccatgaaaagataaggaagaaacttaaatgcatattact aaatgaaagaagctagtatgaaacggccttatattgtatgattccaacta aacaacattctgtagacggcaaaactacggagacagtagttttggcaaga tcagtgcttgccagcggtcagtgggaagtgagggatgaacaggcagagca cagaggatatttaggacagtgaaactattctgtatgatactacaatggtg gatacgtgtcattttatatattgatttgacaggagttcactctgttgccc aggctggtgtgcagtggcacaatcatggctcactgcagccttgacctccc gggctcaagcagtcctcccacctcagcctcctgaatagctgggactacag gtgcacattaccacacctggctaatttttaattttttttttgtaaggatg gggtctcactatgttgcctaggctggtcttgaactcctgggctccagcaa tcctcctgcctcggcttcccaaagtgttgagattacaggcatgaaccact gtgcccggcctcattatatatttgttaaaacctacagaatttgtaatacc aagagtgaattctaatataaactatggacttgggtgataatatgtcaatg caggttcattgaatgtaacaaattagcattgtggttcagtatgttgacag tgggggaggctagtgtgtgtgaggacaggaggtatatgagaatcctctgc acttttcactcaattttgctgtgaatctaaaactgctctaaaaaaaatag tttcttaatttaaaaaaaagcaaaggaagagcataaatgaaaaaagaaaa gactgaaaaccactaagtaaatgtgaatagcttcttgcatattcattctc atacagtgctcagaaaagacagaaaaccaaagcatagcagaaagtccagc ttccaagcaggaactggtgtctccttgacagagcttcaatccaattatgc cccagacactgatttttctatcactacctcccctttgtttcagagacagt atccatgaccttctgttcatgcggtggaggaagaaattgcttcccagaaa ggcttagcccactccattctactagataaaggaaaaacaaaaagccactc cactctgacaagccgattactgtctatggagaagcaaaatgcctccctta ggactatgggaatagccaacaaggtacagtatgttcaaacctttaaccat gactctgccaagagcagctatgtatgtgaatacaatctcctcatctgggc agtcaaatatgcataactgaaagtacaaacctccataaggtcctgtctag ttatagtttcaaatgcacagaaagtgaaagaaggctgaaataaagtctcc cctatccactattgcaattatctaggtaaagcctagaaggaaagaacagg aaagactgaagagggaaagttaaagtgttgaatataatatgatattttat a'"
   ]
  },
  {
   "cell_type": "code",
   "execution_count": 12,
   "metadata": {
    "collapsed": true,
    "nbpresent": {
     "id": "fbc16e37-4bca-4c59-9ff5-1fb59a71ec6a"
    },
    "slideshow": {
     "slide_type": "slide"
    }
   },
   "outputs": [],
   "source": [
    "import re"
   ]
  },
  {
   "cell_type": "code",
   "execution_count": 13,
   "metadata": {
    "collapsed": true,
    "nbpresent": {
     "id": "4329a597-6e7b-4ac9-b04c-073cb586751a"
    },
    "slideshow": {
     "slide_type": "fragment"
    }
   },
   "outputs": [],
   "source": [
    "def pattern_find(reference, pattern):\n",
    "    start = datetime.datetime.now()\n",
    "    pattern_location = []  # Empty list to store location of alignments. \n",
    "    reference = reference.upper().replace(' ','')  # caps and removes spaces\n",
    "    reference = re.sub('[^A-Z]+', '', reference)  # regex removes not an A-Z\n",
    "    \n",
    "    for pattern in pattern_list:\n",
    "        pattern = pattern.upper().replace(' ','')  \n",
    "        pattern = re.sub('[^A-Z]+', '', pattern)  \n",
    "    \n",
    "        for i, base in enumerate(reference):\n",
    "            query_pattern = reference[i:i+len(pattern)]  # Slice \"window\"\n",
    "            \n",
    "            if query_pattern == pattern:\n",
    "                pattern_location.append(pattern)\n",
    "                pattern_location.append(i+1) \n",
    "    \n",
    "    stop = datetime.datetime.now()\n",
    "    print(stop - start)\n",
    "    return(pattern_location)"
   ]
  },
  {
   "cell_type": "code",
   "execution_count": 14,
   "metadata": {
    "collapsed": false,
    "nbpresent": {
     "id": "668a8f97-0476-4051-9506-18d1de68235b"
    },
    "slideshow": {
     "slide_type": "fragment"
    }
   },
   "outputs": [
    {
     "name": "stdout",
     "output_type": "stream",
     "text": [
      "0:00:01.253246\n",
      "['TACTTGCATTTTTTCTAAACAC', 3184]\n"
     ]
    }
   ],
   "source": [
    "print(pattern_find(reference, pattern))"
   ]
  },
  {
   "cell_type": "markdown",
   "metadata": {
    "nbpresent": {
     "id": "49cf7bfc-ce13-43e7-bc79-91baa42f6fd6"
    },
    "slideshow": {
     "slide_type": "slide"
    }
   },
   "source": [
    "#### 00.000057 window find\n",
    " \n",
    "#### 00.001089 window find with list\n",
    "\n",
    "#### 01.550950 window find with real data\n",
    "\n",
    "### Production data means longer compute time. Speed is still within reason."
   ]
  },
  {
   "cell_type": "markdown",
   "metadata": {
    "nbpresent": {
     "id": "70f087f6-e827-4400-8c53-b6d876dab04a"
    },
    "slideshow": {
     "slide_type": "slide"
    }
   },
   "source": [
    "### Now let's incorporate a fuzzy search feature. \n",
    "\n",
    "### We want to be able to allow the user to find alignments with n mismatches. "
   ]
  },
  {
   "cell_type": "code",
   "execution_count": 15,
   "metadata": {
    "collapsed": true,
    "nbpresent": {
     "id": "f7a6b7ff-802c-4389-9082-ca0d187f08c4"
    },
    "slideshow": {
     "slide_type": "fragment"
    }
   },
   "outputs": [],
   "source": [
    "def mismatch(string1, string2):\n",
    "    mismatches = 0\n",
    "    for (nucleotide1, nucleotide2) in zip(string1, string2):\n",
    "        if nucleotide1 != nucleotide2:\n",
    "            mismatches += 1\n",
    "    return(mismatches)"
   ]
  },
  {
   "cell_type": "code",
   "execution_count": 16,
   "metadata": {
    "collapsed": false,
    "nbpresent": {
     "id": "79737bba-0156-435f-bf92-5168ea3a4afa"
    },
    "slideshow": {
     "slide_type": "slide"
    }
   },
   "outputs": [],
   "source": [
    "def approximate_patterns(text, pattern_list, max_mismatches):\n",
    "    start = datetime.datetime.now()\n",
    "    reference_upper = reference.upper().replace(' ','')  # caps and removes spaces\n",
    "    reference_clean = re.sub('[^A-Z]+', '', reference_upper)  # removes not A-Z\n",
    "    \n",
    "    pattern_matches = []\n",
    "    \n",
    "    for pattern in pattern_list:\n",
    "        \n",
    "        string_upper = pattern.upper().replace(' ','')  \n",
    "        string_clean = re.sub('[^A-Z]+', '', string_upper)  \n",
    "        \n",
    "        for i in range(len(reference_clean)-len(pattern)+1):\n",
    "            query_pattern = reference_clean[i:i+len(pattern)]\n",
    "            if mismatch(string_clean, query_pattern) <= max_mismatches:\n",
    "                pattern_matches.append(i+1)\n",
    "                pattern_matches.append(pattern)\n",
    "    stop = datetime.datetime.now()\n",
    "    \n",
    "    print(stop - start)\n",
    "    return(pattern_matches)"
   ]
  },
  {
   "cell_type": "code",
   "execution_count": 17,
   "metadata": {
    "collapsed": false,
    "nbpresent": {
     "id": "533780b8-5f44-4066-8384-ae9756225abd"
    },
    "scrolled": true,
    "slideshow": {
     "slide_type": "fragment"
    }
   },
   "outputs": [
    {
     "name": "stdout",
     "output_type": "stream",
     "text": [
      "0:00:15.928740\n",
      "[1, 'CATGACCCCCCCCAAGAAGAAGCGCAAGGTGGAGGACGGAATGGACGCACAAACACGACG', 41, 'ATGGACGCACAAACACGAC', 3184, 'TACTTGCATTTTTTCTAAACAC']\n"
     ]
    }
   ],
   "source": [
    "print(approximate_patterns(reference, pattern_list, 1))"
   ]
  },
  {
   "cell_type": "markdown",
   "metadata": {
    "nbpresent": {
     "id": "d39d2123-9434-4f66-ba51-9a5e93d3d870"
    },
    "slideshow": {
     "slide_type": "slide"
    }
   },
   "source": [
    "#### 00.000057 window find\n",
    "\n",
    "#### 00.001089 window find with list\n",
    "\n",
    "#### 01.550950 window find with real data\n",
    "\n",
    "#### 18.236138 window find with real fuzzy data\n"
   ]
  },
  {
   "cell_type": "markdown",
   "metadata": {
    "nbpresent": {
     "id": "064c201c-d9b9-4fe0-97cb-b38716f771cc"
    },
    "slideshow": {
     "slide_type": "fragment"
    }
   },
   "source": [
    "### How can we speed this up?"
   ]
  },
  {
   "cell_type": "code",
   "execution_count": 18,
   "metadata": {
    "collapsed": false,
    "nbpresent": {
     "id": "87280a7b-a120-49f0-856f-9d1c5b3fe9b3"
    },
    "slideshow": {
     "slide_type": "slide"
    }
   },
   "outputs": [],
   "source": [
    "final_list = []\n",
    "working_list = []\n",
    "\n",
    "def neighbors(pattern, mismatch_num):\n",
    "    nucleotides = 'ACGT'\n",
    "    current_list = []\n",
    "    final_list = [] \n",
    "    pattern_whole = ''\n",
    "    final_list.append(pattern)\n",
    "    \n",
    "    for index, nucleotide in enumerate(pattern):\n",
    "        rest = pattern[(index+1)::]\n",
    "\n",
    "        for i, nuc in enumerate(nucleotides):\n",
    "            working_pattern = ''\n",
    "            working_pattern += pattern_whole\n",
    "            working_pattern += nuc\n",
    "            working_pattern += rest\n",
    "\n",
    "            if working_pattern not in final_list:\n",
    "                final_list.append(working_pattern)\n",
    "                current_list.append(working_pattern)\n",
    "        pattern_whole += nucleotide\n",
    "\n",
    "    if mismatch_num > 1:\n",
    "        for item in current_list:\n",
    "            working_list.append(item)\n",
    "        return neighbors(working_list, mismatch_num-1)\n",
    "    else:\n",
    "        return final_list\n",
    "final_list = []\n",
    "working_list = []"
   ]
  },
  {
   "cell_type": "code",
   "execution_count": 19,
   "metadata": {
    "collapsed": true,
    "nbpresent": {
     "id": "995cbd34-f365-443c-b98e-2eb4ac505285"
    },
    "slideshow": {
     "slide_type": "slide"
    }
   },
   "outputs": [],
   "source": [
    "pattern_list = ['acac','cag','ttat','agaa','ttatcaaatt',]"
   ]
  },
  {
   "cell_type": "code",
   "execution_count": 20,
   "metadata": {
    "collapsed": false,
    "nbpresent": {
     "id": "24050eb4-ba9c-4070-b1ea-bd4207c0a1bc"
    },
    "slideshow": {
     "slide_type": "fragment"
    }
   },
   "outputs": [
    {
     "name": "stdout",
     "output_type": "stream",
     "text": [
      "['acac', 'Acac', 'Ccac', 'Gcac', 'Tcac', 'aAac', 'aCac', 'aGac', 'aTac', 'acAc', 'acCc', 'acGc', 'acTc', 'acaA', 'acaC', 'acaG', 'acaT']\n",
      "['cag', 'Aag', 'Cag', 'Gag', 'Tag', 'cAg', 'cCg', 'cGg', 'cTg', 'caA', 'caC', 'caG', 'caT']\n",
      "['ttat', 'Atat', 'Ctat', 'Gtat', 'Ttat', 'tAat', 'tCat', 'tGat', 'tTat', 'ttAt', 'ttCt', 'ttGt', 'ttTt', 'ttaA', 'ttaC', 'ttaG', 'ttaT']\n",
      "['agaa', 'Agaa', 'Cgaa', 'Ggaa', 'Tgaa', 'aAaa', 'aCaa', 'aGaa', 'aTaa', 'agAa', 'agCa', 'agGa', 'agTa', 'agaA', 'agaC', 'agaG', 'agaT']\n",
      "['ttatcaaatt', 'Atatcaaatt', 'Ctatcaaatt', 'Gtatcaaatt', 'Ttatcaaatt', 'tAatcaaatt', 'tCatcaaatt', 'tGatcaaatt', 'tTatcaaatt', 'ttAtcaaatt', 'ttCtcaaatt', 'ttGtcaaatt', 'ttTtcaaatt', 'ttaAcaaatt', 'ttaCcaaatt', 'ttaGcaaatt', 'ttaTcaaatt', 'ttatAaaatt', 'ttatCaaatt', 'ttatGaaatt', 'ttatTaaatt', 'ttatcAaatt', 'ttatcCaatt', 'ttatcGaatt', 'ttatcTaatt', 'ttatcaAatt', 'ttatcaCatt', 'ttatcaGatt', 'ttatcaTatt', 'ttatcaaAtt', 'ttatcaaCtt', 'ttatcaaGtt', 'ttatcaaTtt', 'ttatcaaaAt', 'ttatcaaaCt', 'ttatcaaaGt', 'ttatcaaaTt', 'ttatcaaatA', 'ttatcaaatC', 'ttatcaaatG', 'ttatcaaatT']\n",
      "0:00:00.002092\n"
     ]
    }
   ],
   "source": [
    "start = datetime.datetime.now()\n",
    "\n",
    "for pattern in pattern_list:\n",
    "    print(neighbors(pattern, 1))\n",
    "\n",
    "stop = datetime.datetime.now()\n",
    "print(stop-start)"
   ]
  },
  {
   "cell_type": "code",
   "execution_count": 21,
   "metadata": {
    "collapsed": true,
    "nbpresent": {
     "id": "678c76c3-4f07-46dd-a5e8-8584a3c2cbd4"
    },
    "slideshow": {
     "slide_type": "skip"
    }
   },
   "outputs": [],
   "source": [
    "pattern_list = ['CATGACCCCCCCCAAGAAGAAGCGCAAGGTGGAGGACGGAATGGACGCACAAACACGACG', 'TGGGGCCGCCGCCCACGGCGGGGGCGCCGCCGCCCAACTTGTTTGCAGCTTTCCATTGAGCTT', 'CATGACCCCCCCCAAGAAGAAGCGCAAGGTGGAGGACGGAATGGCTTCTAACTTTACTCAGTTCGTTC', 'TGGGGCCGCCGCCCACGGCGGGGGCGCCGCCGCCCAACTTGTAGATGCCGGAGTTTGCTG', 'ATGGACGCACAAACACGAC', 'ATGGCTTCTAACTTTACTCAGTTCGTT', 'TACTTGCATTTTTTCTAAACAC', 'ACTATAGGGAGACCCAAGCTGG', 'GAGGATTCTGACAGTGAAATATCAG', 'ATGTTTGGTGAGCCAAAAC', 'CATACTTACTTGGCTTGTTTGGGATAT', 'GCCTATGGCATTATTGTACGGA', 'TTACGCATAAACGATGACGTCA', 'AAGGCACAGTCGAGGC', 'GATCTGGGCCCTGAAGAAGGGCCCG', 'GATCCGGGCCCTTCTTCAGGGCCCA', 'ATGTTTGGTGAGCCAAAAC', 'CATGAGGGCCCTGAAGAAGGGCCCC', 'GATCCGGGCCCTTCTTCAGGGCCCA', 'GATCTGGGCCCTGAAGAAGGGCCCG', 'CTATCAGTGATAGAGAACGTATAAG', 'CAGAGGAGGGAAGAGAG', 'CTTCTTATCATCTCCATCTTTATGATG', 'CGTTCAGTGTCAGAAAATG', 'CATCTTGAGACACATGGG', 'GTGACATAATTGGACAAACTACC', 'GGGAGCTTGTATATCCATTTTCGGATCTGATCAGCACGTGATGACCGAGTACAAGCCCACG', 'CATAGAAGGCGGCGGTGGAATCGAAATCTCGTAGCACGTGTCAGGCACCGGGCTTGCGGG', 'TGCCTCTGAGCTATTCC', 'GCGCTGGAGGATCATC', 'AGCGGTTCCCGG', 'CCGCGCTGGAGGATCATCCA', 'GGGTCTGGGCAGCGCCGTCG', 'GGCGAAGAACTCCAGCATGAG', 'CATGGCGATGCCTGCTTGCCGA', 'GCAAGGAACGCCCGTCGTGGC', 'TCTCCGGGCCTTTCGACCTGCAGCCAATATGGGATCGGCCATGACCGAGTACAAGCCCAC', 'CAGTCGAGGCTGATCAGCGAGCTCTAGAGAATTGATCCCCTCAGGCACCGGGCTTGCGGG', 'TCCTCTTCCTCATCTCCGGGCCTTTCGACCTGCAGCCAATATGACCGAGTACAAGCCCAC', 'AATGATACGGCGACCACCGAGATCTACACTCTTTCCCTACACGACGCTCTTCCGATCTACGTTTACGCAGACTATCTTTCT', 'AATGATACGGCGACCACCGAGATCTACACTCTTTCCCTACACGACGCTCTTCCGATCTCTATTTACGCAGACTATCTTTCT', 'AATGATACGGCGACCACCGAGATCTACACTCTTTCCCTACACGACGCTCTTCCGATCTGATTTTACGCAGACTATCTTTCT', 'AATGATACGGCGACCACCGAGATCTACACTCTTTCCCTACACGACGCTCTTCCGATCTTGCTTTACGCAGACTATCTTTCT', 'CAAGCAGAAGACGGCATACGAGATCGGTCTCGGCATTCCTGCTGAACCGCTCTTCCGATC', 'CGTGCCTTTTCCCGCGAGGTTG', 'GCCTGCTGGGGAGCCTGGGGAC', 'CCTCTAGAAATAATTTTGTTTAACTTTAAGAAGGAGATATACATATGAGCGGCCGCGGCAAAGG', 'CAACTCAGCTTCCTTTCGGGCTTTGTTAGCAGCCGGATCCTTAACCGCCAAAACCATACAGG', 'CTCTAGAAATAATTTTGTTTAACTTTAAGAAGGAGATATACATATGGGCCATCACCATCACCATCACC', 'GTCTGTGTAGAAGACCACACACG', 'GCTCAAGCAGAGGCGGCCTCGGCC', 'GCTTCAAGTGGGAGCGCGTGATG', 'GGGGATCAATTCTCTAGAGCTCGC', 'ATTGGCTGCAGGTCGAAAGGC', 'CCGCTCTTCCGATCTGTTATGAAGG', 'GCAGGAAACGAAGATAAATCATGTCG', 'CGTAACAACTCCGCCCCATTGACG', 'CGCGGTCTCGGCATTCCTGCTG', 'AGGCCCGGCATTCTGCACGC', 'CCATTCTCCGCCCCATGGCTGAC', 'CTTGTCTGTAAGCGGATGCCG', 'GATCAGTTGGGTGCACGAGTGG', 'CCGCTGTTGAGATCCAGTTCG', 'CCTCCTCACTACTTCTGGAATAGC', 'AGGCCGAGGCCGCCTCTGC', 'CCTGACGGGCTTGTCTGCTCC', 'CCAAAATGTCGTAACAACTCCGCCC', 'GCATATTTGAGAAGATGCGGCCAGC', 'CAGCGGCCAATAGCAGCTTTGC', 'CACAAGTGGCCTCTGGCCTCGCACACATTCCACATCCAACGCGTGGGTTGCGCCTTTTCCAAGGC', 'CGAGGCTGATCAGCGAGCTCTAGAGAATTGATCCCCCGTCGACGTCAGGCACCGGGCTTGCGGG', 'CGTCGACGGGGGATCAATTCTCTAGAGCTCGCTGATCAGC', 'GGTTCCTGGCCTTTTGCTGG', 'GTGAAATACCGCACAGAGCAAAAGG', 'TGTTCTGCAGCGTGTCGAGC', 'TTACAGCGTGATGGAGCAGATGAAG', 'ACGCGTTGGATGTGGAATGTGTGCGAGGCC', 'ACTGCCCGCTTTCCAGTCG', 'CGACGATATGATCCTGATGCAGCTAG', 'TTTACGCAGACTATCTTTCT', 'CGGTCTCGGCATTCCTGCTGAACCGCTCTTCCGATC', 'CAAGAATGCATGCGTCAATTTTACGCAGACTATCTTTCTAG', 'GGTGCCTGACGTCGACGGGGGATCAATTCTCTAGAGCTCGCTGATC', 'CAACCCACGCGTTGGATGTGGAATGTGTGCGA', 'GATCCGTTGTAAAACGACGGCCAGTCA', 'TATGACTGGCCGTCGTTTTACAAC', 'GGAGGACGGGCAGACTCGC', 'CAACCCACGCGTTGGATGTGGAATGTGTGCGAGGCCAGAG', 'GAGTTGGTAGCTCTTGATCCGGC', 'GCAACTGCCCGGCTACTACTAC', 'CGTTGGCCGATTCATTAATGCAGC', 'CCGCACCGCTGTCATTAATCTGC', 'CCACTTGTGTAGCGCCAAGTG', 'GGATAATACCGCGCCACATAGC', 'GATCGGGCCCTGAAGAAGGGCCCGGGCCCTGAAGAAGGGCCCGGGCCCTGAAGAAGGGCCCCGG', 'GATCCCGGGGCCCTTCTTCAGGGCCCGGGCCCTTCTTCAGGGCCCGGGCCCTTCTTCAGGGCCC', 'GATCCCCGGGCCCTGAAGAAGGGCCCGGGCCCTGAAGAAGGGCCCGGGCCCTGAAGAAGGGCCCGGA', 'GATCTCCGGGCCCTTCTTCAGGGCCCGGGCCCTTCTTCAGGGCCCGGGCCCTTCTTCAGGGCCCGGG', 'CCACTCCTCCACCTTTGAC', 'ACCCTGTTGCTGTAGCCA', 'AATGATACGGCGACCACCGAGATCTACACTCTTTCCCTACACGACGCTCTTCCGATCTTGCAAGAATGCATGCGTCAATTTTACGCAGACTATCTTTCTAG', 'ACCATTCCCAATGCCTGAA', 'TGCATACCTACCCAATGTATGG', 'GGCTTAGACCCTCAGGT', 'GCTCCCTCTCTCCACTC', 'GGACTCATGACCACAGTCCATGC', 'GGAAGGCCATGCCAGTGAG', 'CCAAATTCGTTGTCATACCAGG', 'ACACCCAAGCTCGTTGGG', 'CCTTGCCTGCATTTCTCTGC', 'CAGAAAGGTCCTGCTCCGC', 'CCCCTCCTTCCTCTCGCC', 'GTCCCTAATATCCCGGAGGT', 'GCAGGCTTCTAAATCCGTTC', 'GATCGGAAGAGCGGTTCAGCAGGAATGCCG', 'AGAAAGATAGTCTGCGTAAA', 'CTAGAAAGATAGTCTGCGTAAAATTGACGCATGCATTCTTG', 'GTTGACATTGCGAAGAGCGACAAAG', 'GATCTGTTGTAAAACGACGGCCAGTC', 'TTAAGACTGGCCGTCGTTTTACAACA', 'AATGATACGGCGACCACCGAGATCTACACTCTTTCCCTACACGACGCTCTTCCGATCTACTTTTACGCAGACTATCTTTCT', 'AATGATACGGCGACCACCGAGATCTACACTCTTTCCCTACACGACGCTCTTCCGATCTCAGTTTACGCAGACTATCTTTCT', 'AATGATACGGCGACCACCGAGATCTACACTCTTTCCCTACACGACGCTCTTCCGATCTGTCTTTACGCAGACTATCTTTCT', 'AATGATACGGCGACCACCGAGATCTACACTCTTTCCCTACACGACGCTCTTCCGATCTTGATTTACGCAGACTATCTTTCT', 'AATGATACGGCGACCACCGAGATCTACACTCTTTCCCTACACGACGCTCTTCCGATCTACGTTTACGCAGACTATCTTTCT', 'AATGATACGGCGACCACCGAGATCTACACTCTTTCCCTACACGACGCTCTTCCGATCTCTATTTACGCAGACTATCTTTCT', 'AATGATACGGCGACCACCGAGATCTACACTCTTTCCCTACACGACGCTCTTCCGATCTGATTTTACGCAGACTATCTTTCT', 'AATGATACGGCGACCACCGAGATCTACACTCTTTCCCTACACGACGCTCTTCCGATCTTGCTTTACGCAGACTATCTTTCT', 'CAAGCAGAAGACGGCATACGAGATCGGTCTCGGCATTCCTGCTGAACCGCTCTTCCGATC', 'CGGATTTCCTTGAAGAGAGTGAG', 'CGGATCTGGAAGTTCTGTTCC', 'CGCTGTGCAGAAGCAGAGAGG', 'GTTACCAGGTCCGCGCTCTC', 'ACGGATTCGCGCTATTTAGA', 'GTGCTTGTCAATGCGGTAAG', 'CACGCGGTCGTTATAGTTCA', 'GACGCATGATTATCTTTTACGTG', 'CGCAATTAATGTGAGTTAGC', 'GGTGTAAACCTTAAACTGCC', 'CAGGCAGACATCTGTGAATCG', 'GTTCTGCCCAAGGGTTGGTTTG', 'TTAATCTAGCTGCATCAGGATCATATCGTCGGGTC', 'GGTAGAAAAAGCAACCACGAAGC', 'ACATAAACCTCTGTCTGTGAGTGCC', 'GGCAGCACAGAGCAACTCTA', 'GAGTGCAAAGTCCCGTTTG', 'AGCCTTTGGAAGCTCTTGAA', 'GTGTCTTGGAGAGGCGTGTA', 'AGAAGAGTTAGTTGACTATACAGC', 'ATGTTTGAATGTGATAACCGTCCT', 'AATTACCGATCCAATGCGAAGCTTTAAGAC', 'AATTGTCTTAAAGCTTCGCATTGGATCGGT', 'AATTACGTAAGCTTAATGCCGATCCAAGAC', 'AATTGTCTTGGATCGGCATTAAGCTTACGT', 'TTGAGAAGAGTTAGTTGACTATACAGC', 'CAAGCAGAAGACGGCATACGAGAT', 'AATGATACGGCGACCACCGAGATCTACACTCTTTCCCTACACGACGCTCTTCCGATCT', 'AATGATACGGCGACCACCGAGATCTACACTCTTTCCCTACACGACGCTCTTCCGATCTATCACGTTTACGCAGACTATCTTTCT', 'AATGATACGGCGACCACCGAGATCTACACTCTTTCCCTACACGACGCTCTTCCGATCTCGATGTTTTACGCAGACTATCTTTCT', 'ACAGTAGCTGTATATAAAACCAGTGATGTTTGAATGTGATAACCGTCCT', 'TGCTGTATAAAAAACCAGTGGTTATATGTACAGTAGCTGTATATAAAACCAGTGGTTATATGTACAGTAGCTGTATATAAAACCAGTGATGTTTGAATGTGATAACCGTCCT', 'ATGTTTGGTGAGCCAAAAC', 'GATCGGAAGAGCACACGTCTGAACTCCAGTCACATCACGATCTCGTATGCCGTCTTCTGCTTG', 'GATCGGAAGAGCACACGTCTGAACTCCAGTCACCGATGTATCTCGTATGCCGTCTTCTGCTTG', 'AATGATACGGCGACCACCGAGATCTACACTCTTTCCCTACACGACGCTCTTCCGATCT', 'CAAGCAGAAGACGGCATACGAGATATCACGGTGACTGGAGTTCAGACGTGTGCTCTTCCGATCCGGTCTCGGCATTCCTGCTGAACCGCTCTTCCGATC', 'CAAGCAGAAGACGGCATACGAGATCGATGTGTGACTGGAGTTCAGACGTGTGCTCTTCCGATCCGGTCTCGGCATTCCTGCTGAACCGCTCTTCCGATC', 'AGCCATCAAGGAGGCTGTAA', 'CCAGGAAGTCCGTAGAGACG', 'GAAGTTCAGGCATTGGGAAT', 'CAAACGGGACTTTGCACTCT', 'GTGAACCGTCAGATCGCCTGG', 'TGTCCAATTATGTCACACCA', 'CCATTCGCCATTCAGGCTGC']"
   ]
  },
  {
   "cell_type": "markdown",
   "metadata": {
    "slideshow": {
     "slide_type": "slide"
    }
   },
   "source": [
    "real data"
   ]
  },
  {
   "cell_type": "code",
   "execution_count": 22,
   "metadata": {
    "collapsed": false,
    "nbpresent": {
     "id": "229776c7-eadf-4aa1-b203-482518cd372b"
    },
    "slideshow": {
     "slide_type": "slide"
    }
   },
   "outputs": [],
   "source": [
    "def neighbor_patterns(text, pattern_list, max_mismatches):\n",
    "    start = datetime.datetime.now()\n",
    "    reference_upper = reference.upper().replace(' ','')  # caps and removes spaces\n",
    "    reference_clean = re.sub('[^A-Z]+', '', reference_upper)  # removes not A-Z\n",
    "    \n",
    "    pattern_matches = []\n",
    "    \n",
    "    for pattern in pattern_list:\n",
    "        string_upper = pattern.upper().replace(' ','')  \n",
    "        string_clean = re.sub('[^A-Z]+', '', string_upper)  \n",
    "\n",
    "        for neighbor in neighbors(string_clean, max_mismatches):\n",
    "            \n",
    "            if neighbor in reference_clean:\n",
    "                \n",
    "                for i in range(len(reference_clean)-len(pattern)+1):\n",
    "                    query_pattern = reference_clean[i:i+len(pattern)]\n",
    "                    \n",
    "                    if mismatch(neighbor, query_pattern) <= max_mismatches:\n",
    "                        pattern_matches.append(i+1)\n",
    "                        pattern_matches.append(pattern)\n",
    "                        \n",
    "    stop = datetime.datetime.now()\n",
    "    print(stop - start)\n",
    "    return(pattern_matches)"
   ]
  },
  {
   "cell_type": "code",
   "execution_count": 23,
   "metadata": {
    "collapsed": false,
    "nbpresent": {
     "id": "8a74bcb1-d017-4f60-a3f4-69e2bd311646"
    },
    "slideshow": {
     "slide_type": "slide"
    }
   },
   "outputs": [
    {
     "name": "stdout",
     "output_type": "stream",
     "text": [
      "0:00:02.107689\n",
      "[1, 'CATGACCCCCCCCAAGAAGAAGCGCAAGGTGGAGGACGGAATGGACGCACAAACACGACG', 41, 'ATGGACGCACAAACACGAC', 3184, 'TACTTGCATTTTTTCTAAACAC']\n"
     ]
    }
   ],
   "source": [
    "print(neighbor_patterns(reference, pattern_list, 1))"
   ]
  },
  {
   "cell_type": "markdown",
   "metadata": {
    "nbpresent": {
     "id": "d930810d-ce52-422f-9980-fadf22de7fce"
    },
    "slideshow": {
     "slide_type": "skip"
    }
   },
   "source": [
    "0:00:00.000057  loop find\n",
    "\n",
    "0:00:00.001089 loop find with list\n",
    "\n",
    "0:00:01.550950 loop find with real data\n",
    "\n",
    "0:00:18.236138 loop find with real fuzzy data\n",
    "\n",
    "0:00:02.250438 loop find with real data and fuzzy neighbors"
   ]
  },
  {
   "cell_type": "code",
   "execution_count": 25,
   "metadata": {
    "collapsed": false,
    "slideshow": {
     "slide_type": "slide"
    }
   },
   "outputs": [
    {
     "name": "stdout",
     "output_type": "stream",
     "text": [
      "High five! You successfuly sent some data to your account on plotly. View your plot in your browser at https://plot.ly/~ksindy/0 or inside your plot.ly account where it is named 'basic-bar'\n"
     ]
    },
    {
     "data": {
      "text/html": [
       "<iframe id=\"igraph\" scrolling=\"no\" style=\"border:none;\" seamless=\"seamless\" src=\"https://plot.ly/~ksindy/0.embed\" height=\"525px\" width=\"100%\"></iframe>"
      ],
      "text/plain": [
       "<plotly.tools.PlotlyDisplay object>"
      ]
     },
     "execution_count": 25,
     "metadata": {},
     "output_type": "execute_result"
    }
   ],
   "source": [
    "import plotly\n",
    "plotly.tools.set_credentials_file(username='ksindy', api_key='djyAuoTyMMoveuDBFrJ2')\n",
    "import plotly.graph_objs as go\n",
    "\n",
    "data = [go.Bar(\n",
    "            x=['win', 'win list', 'win real', 'win real fuzz', 'win real fuzz neigh'],\n",
    "            y=[00.000057, 00.001089, 01.550950, 18.236138, 02.250438])]\n",
    "\n",
    "py.iplot(data, filename='basic-bar')"
   ]
  },
  {
   "cell_type": "code",
   "execution_count": 26,
   "metadata": {
    "collapsed": true,
    "nbpresent": {
     "id": "86a35b53-933f-410e-9670-39c42a3c359d"
    },
    "slideshow": {
     "slide_type": "slide"
    }
   },
   "outputs": [],
   "source": [
    "from tinydb import TinyDB, Query\n",
    "import json"
   ]
  },
  {
   "cell_type": "code",
   "execution_count": 44,
   "metadata": {
    "collapsed": true,
    "slideshow": {
     "slide_type": "fragment"
    }
   },
   "outputs": [],
   "source": [
    "reference = 'cactaagcacacagagaataatgtctagaatctgagtgccatgttatcaaattgtactgagactcttgcagtcacacag'\n",
    "pattern = 'cac'"
   ]
  },
  {
   "cell_type": "code",
   "execution_count": 45,
   "metadata": {
    "collapsed": true,
    "slideshow": {
     "slide_type": "slide"
    }
   },
   "outputs": [],
   "source": [
    "pattern_list = ['acac','cag','ttat','agaa','ttatcaaatt',]"
   ]
  },
  {
   "cell_type": "code",
   "execution_count": 46,
   "metadata": {
    "collapsed": true,
    "nbpresent": {
     "id": "d71d3ced-acfc-4b7f-a6a4-c1d49be4f842"
    },
    "slideshow": {
     "slide_type": "fragment"
    }
   },
   "outputs": [],
   "source": [
    "db = TinyDB('/Users/ksindy/PycharmProjects/oligo_search_website/pratice_db.json')"
   ]
  },
  {
   "cell_type": "code",
   "execution_count": 47,
   "metadata": {
    "collapsed": false,
    "nbpresent": {
     "id": "4976d385-8b2a-412f-8215-bdcd0ededacb"
    },
    "slideshow": {
     "slide_type": "slide"
    }
   },
   "outputs": [],
   "source": [
    "def pattern_find_tinydb(pattern_list, reference):\n",
    "    start = datetime.datetime.now()\n",
    "    aligns = []  # Creates empty list to store alignments\n",
    "    pattern_length_list = []  # Creates empty list to store pattern lengths\n",
    "\n",
    "    for pattern in pattern_list:  \n",
    "        \n",
    "        '''\n",
    "        DETERMINE LENGTH OF PATTERN\n",
    "        Do not need to add to db if pattern length already seen\n",
    "        '''\n",
    "        \n",
    "        if len(pattern) not in pattern_length_list:  \n",
    "            pattern_length_list.append(len(pattern))\n",
    "            \n",
    "        '''\n",
    "        ADD REFERENCE TO DATABASE\n",
    "        Splits reference into pattern length chunks and adds to the db \n",
    "        along with location (i).\n",
    "        [{'sequence': 'cact', 'index': 1}]\n",
    "        [{'sequence': 'cact', 'index': 1}, {'sequence': 'acta', 'index': 2}]\n",
    "        ...\n",
    "        [{'sequence': 'cac', 'index': 1}]\n",
    "        [{'sequence': 'cac', 'index': 1}, {'sequence': 'act', 'index': 2}]\n",
    "\n",
    "        '''\n",
    "\n",
    "        for i, nucleotide in enumerate(reference):  \n",
    "            ref_chunk = reference[i:i+len(pattern)]  \n",
    "            db.insert({'sequence': ref_chunk, 'index':i+1}) \n",
    "\n",
    "            '''\n",
    "            FIND ALIGNMENTS\n",
    "            [{\"sequence\": \"acac\", \"index\": 9}, {\"sequence\": \"acac\", \"index\": 74}]\n",
    "            [{\"sequence\": \"cag\", \"index\": 12}, {\"sequence\": \"cag\", \"index\": 69}...\n",
    "            [{\"sequence\": \"ttat\", \"index\": 44}]\n",
    "            [{\"sequence\": \"agaa\", \"index\": 15}, {\"sequence\": \"agaa\", \"index\": 27}]\n",
    "            [{\"sequence\": \"ttatcaaatt\", \"index\": 44}]\n",
    "            '''\n",
    "        sequence_match = Query()\n",
    "        matches = db.search(sequence_match.sequence == pattern)  # bit-like object\n",
    "        matches = json.dumps(matches)  # Dumps json to python dict, in this case to string\n",
    "        locations = re.findall(r'\\d+', matches)\n",
    "        print(matches)\n",
    "        aligns.append('{} {}'.format(pattern, locations))\n",
    "        stop = datetime.datetime.now()\n",
    "    print(stop-start)\n",
    "    return(aligns)"
   ]
  },
  {
   "cell_type": "code",
   "execution_count": 48,
   "metadata": {
    "collapsed": true,
    "nbpresent": {
     "id": "eb7cc145-b319-441f-ae87-f164e2567dee"
    },
    "slideshow": {
     "slide_type": "fragment"
    }
   },
   "outputs": [],
   "source": [
    "db.purge()"
   ]
  },
  {
   "cell_type": "code",
   "execution_count": 49,
   "metadata": {
    "collapsed": false,
    "nbpresent": {
     "id": "184d55fa-3b43-42f2-86b5-d7ea3bfd4642"
    }
   },
   "outputs": [
    {
     "name": "stdout",
     "output_type": "stream",
     "text": [
      "[{\"sequence\": \"acac\", \"index\": 9}, {\"sequence\": \"acac\", \"index\": 74}]\n",
      "[{\"sequence\": \"cag\", \"index\": 77}, {\"sequence\": \"cag\", \"index\": 12}, {\"sequence\": \"cag\", \"index\": 69}, {\"sequence\": \"cag\", \"index\": 77}]\n",
      "[{\"sequence\": \"ttat\", \"index\": 44}, {\"sequence\": \"ttat\", \"index\": 44}]\n",
      "[{\"sequence\": \"agaa\", \"index\": 15}, {\"sequence\": \"agaa\", \"index\": 27}, {\"sequence\": \"agaa\", \"index\": 15}, {\"sequence\": \"agaa\", \"index\": 27}, {\"sequence\": \"agaa\", \"index\": 15}, {\"sequence\": \"agaa\", \"index\": 27}]\n",
      "[{\"sequence\": \"ttatcaaatt\", \"index\": 44}]\n",
      "0:00:00.821750\n"
     ]
    },
    {
     "data": {
      "text/plain": [
       "[\"acac ['9', '74']\",\n",
       " \"cag ['77', '12', '69', '77']\",\n",
       " \"ttat ['44', '44']\",\n",
       " \"agaa ['15', '27', '15', '27', '15', '27']\",\n",
       " \"ttatcaaatt ['44']\"]"
      ]
     },
     "execution_count": 49,
     "metadata": {},
     "output_type": "execute_result"
    }
   ],
   "source": [
    "pattern_find_tinydb(pattern_list, reference)"
   ]
  },
  {
   "cell_type": "code",
   "execution_count": 13,
   "metadata": {
    "collapsed": false,
    "nbpresent": {
     "id": "4fc743af-3949-4560-821c-7cf473ef3890"
    },
    "slideshow": {
     "slide_type": "fragment"
    }
   },
   "outputs": [],
   "source": [
    "def pattern_find_tinydb(pattern_list, reference):\n",
    "    print(datetime.datetime.time(datetime.datetime.now()))\n",
    "    aligns = []  # Creates empty list to store alignments\n",
    "    pattern_length_list = []  # Creates empty list to store pattern lengths\n",
    "    \n",
    "    for pattern in pattern_list:  \n",
    "        if len(pattern) not in pattern_length_list:  \n",
    "            pattern_length_list.append(len(pattern))\n",
    "            \n",
    "        for i, nucleotide in enumerate(reference):\n",
    "            ref_chunk = reference[i:i+len(pattern)]  \n",
    "            db.insert({'sequence': ref_chunk, 'index':i+1})  \n",
    "            #print(ref_chunk)\n",
    "                \n",
    "        sequence_match = Query()\n",
    "        matches = db.search(sequence_match.sequence == pattern)\n",
    "        matches = json.dumps(matches)\n",
    "        locations = re.findall(r'\\d+', matches)\n",
    "        aligns.append('{} {}'.format(pattern, locations))\n",
    "    print(datetime.datetime.time(datetime.datetime.now()))\n",
    "    return(aligns)"
   ]
  },
  {
   "cell_type": "code",
   "execution_count": 14,
   "metadata": {
    "collapsed": false,
    "nbpresent": {
     "id": "59821909-1438-45da-abe0-39677c0aa353"
    }
   },
   "outputs": [
    {
     "ename": "SyntaxError",
     "evalue": "invalid syntax (<ipython-input-14-1f3e218287de>, line 28)",
     "output_type": "error",
     "traceback": [
      "\u001b[0;36m  File \u001b[0;32m\"<ipython-input-14-1f3e218287de>\"\u001b[0;36m, line \u001b[0;32m28\u001b[0m\n\u001b[0;31m    matches = json.dumps(matches)\u001b[0m\n\u001b[0m          ^\u001b[0m\n\u001b[0;31mSyntaxError\u001b[0m\u001b[0;31m:\u001b[0m invalid syntax\n"
     ]
    }
   ],
   "source": [
    "def pattern_find_tinydb(pattern_list, reference, mismatch_num):\n",
    "    print(datetime.datetime.time(datetime.datetime.now()))\n",
    "    aligns = []  # Creates empty list to store alignments\n",
    "    pattern_length_list = []  # Creates empty list to store pattern lengths\n",
    "    reference_upper = reference.upper().replace(' ','')\n",
    "    reference_clean = re.sub('[^A-Z]+', '', reference_upper)\n",
    "    \n",
    "    for pattern in pattern_list:  \n",
    "        string_upper = pattern.upper().replace(' ','')  # Removes whitespace, converts to caps.\n",
    "        string_clean = re.sub('[^A-Z]+', '', string_upper)  # Uses a regex to remove char not a A-Z.\n",
    "        \n",
    "        if len(pattern) not in pattern_length_list:  \n",
    "            pattern_length_list.append(len(pattern))\n",
    "            \n",
    "            for i, nucleotide in enumerate(reference_clean):  \n",
    "                ref_chunk = reference_clean[i:i+len(pattern)]  \n",
    "                db.insert({'sequence': ref_chunk, 'index':i+1})  \n",
    "        aligns.append(pattern)     \n",
    "        all_matches = ''\n",
    "        if mismatch_num > 0:\n",
    "            for neighbor in neighbors(string_clean, mismatch_num):\n",
    "                matches = db.search(Query().sequence == neighbor)\n",
    "                matches = json.dumps(matches)    \n",
    "                all_matches += matches\n",
    "                #print(matches)\n",
    "        else:\n",
    "            matches = db.search(Query().sequence == string_clean\n",
    "            matches = json.dumps(matches)    \n",
    "            all_matches += matches\n",
    "        locations = re.findall(r'\\d+', all_matches)\n",
    "        list1 = [int(x) for x in locations]\n",
    "        list1.sort()\n",
    "        aligns.append(list1)\n",
    "    print(datetime.datetime.time(datetime.datetime.now()))\n",
    "    return(aligns)"
   ]
  }
 ],
 "metadata": {
  "anaconda-cloud": {},
  "celltoolbar": "Slideshow",
  "kernelspec": {
   "display_name": "Python [nov2016]",
   "language": "python",
   "name": "Python [nov2016]"
  },
  "language_info": {
   "codemirror_mode": {
    "name": "ipython",
    "version": 3
   },
   "file_extension": ".py",
   "mimetype": "text/x-python",
   "name": "python",
   "nbconvert_exporter": "python",
   "pygments_lexer": "ipython3",
   "version": "3.5.2"
  },
  "nbpresent": {
   "slides": {
    "00c663d8-9a99-4ea0-95bf-8610abc3928c": {
     "id": "00c663d8-9a99-4ea0-95bf-8610abc3928c",
     "prev": "8de63452-fa16-40a3-ac36-0e9205a9bdaa",
     "regions": {
      "4b1b4c01-80dd-4714-af2f-48ffd7b55759": {
       "attrs": {
        "height": 0.4,
        "width": 0.8,
        "x": 0.1,
        "y": 0.5
       },
       "content": {
        "cell": "39127cf3-d26f-4def-afa3-e6d05ee0be38",
        "part": "whole"
       },
       "id": "4b1b4c01-80dd-4714-af2f-48ffd7b55759"
      },
      "a1659f8d-8b9f-4448-94f3-bc5784af0aa5": {
       "attrs": {
        "height": 0.4,
        "width": 0.8,
        "x": 0.1,
        "y": 0.5
       },
       "content": {
        "cell": "49cf7bfc-ce13-43e7-bc79-91baa42f6fd6",
        "part": "whole"
       },
       "id": "a1659f8d-8b9f-4448-94f3-bc5784af0aa5"
      },
      "a312d1dc-8806-485b-b2b3-66136c742c8f": {
       "attrs": {
        "height": 0.4,
        "width": 0.8,
        "x": 0.1,
        "y": 0.5
       },
       "content": {
        "cell": "668a8f97-0476-4051-9506-18d1de68235b",
        "part": "whole"
       },
       "id": "a312d1dc-8806-485b-b2b3-66136c742c8f"
      },
      "a5c7a09a-c691-4890-abf7-86baddbf1df6": {
       "attrs": {
        "height": 0.4,
        "width": 0.8,
        "x": 0.1,
        "y": 0.5
       },
       "content": {
        "cell": "4329a597-6e7b-4ac9-b04c-073cb586751a",
        "part": "whole"
       },
       "id": "a5c7a09a-c691-4890-abf7-86baddbf1df6"
      },
      "bb8fb5d2-21b1-41f1-9a95-ddab60b325e6": {
       "attrs": {
        "height": 0.4,
        "width": 0.8,
        "x": 0.1,
        "y": 0.5
       },
       "content": {
        "cell": "e1fa3532-202b-4f37-a218-34c62dc361d0",
        "part": "whole"
       },
       "id": "bb8fb5d2-21b1-41f1-9a95-ddab60b325e6"
      },
      "ff44e4f4-e8c3-4377-92d1-190d3eedbd5d": {
       "attrs": {
        "height": 0.8,
        "width": 0.8,
        "x": 0.1,
        "y": 0.1
       },
       "content": {
        "cell": "edf85e70-3a99-4591-a646-181dfde817aa",
        "part": "whole"
       },
       "id": "ff44e4f4-e8c3-4377-92d1-190d3eedbd5d"
      }
     }
    },
    "0823d83f-9fc4-482f-a4b5-eb67929d1acb": {
     "id": "0823d83f-9fc4-482f-a4b5-eb67929d1acb",
     "prev": null,
     "regions": {
      "4379dbcd-7205-4a48-a2b3-ff5e8e1e9783": {
       "attrs": {
        "height": 0.8,
        "width": 0.8,
        "x": 0.1,
        "y": 0.1
       },
       "content": {
        "cell": "0308c1aa-4b12-4ae7-8694-002f7249106f",
        "part": "whole"
       },
       "id": "4379dbcd-7205-4a48-a2b3-ff5e8e1e9783"
      },
      "8bc1dafd-2b0b-4fe9-80c4-bc840b016e22": {
       "attrs": {
        "height": 0.4,
        "width": 0.8,
        "x": 0.1,
        "y": 0.5
       },
       "content": {
        "cell": "17e5af91-38b4-48a2-aba3-2f8317e7a2c0",
        "part": "whole"
       },
       "id": "8bc1dafd-2b0b-4fe9-80c4-bc840b016e22"
      }
     }
    },
    "815f27f6-85c3-4ec6-b91e-793825de2f61": {
     "id": "815f27f6-85c3-4ec6-b91e-793825de2f61",
     "prev": "0823d83f-9fc4-482f-a4b5-eb67929d1acb",
     "regions": {
      "428f7532-0de9-4ca6-a7f2-d6e2fe77ab16": {
       "attrs": {
        "height": 0.8,
        "width": 0.8,
        "x": 0.1,
        "y": 0.1
       },
       "content": {
        "cell": "f32d953f-dfc3-4cf2-90b3-0d477873ad3f",
        "part": "whole"
       },
       "id": "428f7532-0de9-4ca6-a7f2-d6e2fe77ab16"
      },
      "f91d6d0d-3c52-4eba-9491-359f5fc7bc49": {
       "attrs": {
        "height": 0.4,
        "width": 0.8,
        "x": 0.1,
        "y": 0.5
       },
       "content": {
        "cell": "1135acd8-a0c9-4882-8f86-e4e5b8662b3c",
        "part": "whole"
       },
       "id": "f91d6d0d-3c52-4eba-9491-359f5fc7bc49"
      }
     }
    },
    "8de63452-fa16-40a3-ac36-0e9205a9bdaa": {
     "id": "8de63452-fa16-40a3-ac36-0e9205a9bdaa",
     "prev": "ea1ed231-5e90-471d-b7f6-e3b6e2552dae",
     "regions": {
      "1491a4da-2e57-4461-899e-7055b629337c": {
       "attrs": {
        "height": 0.8,
        "width": 0.8,
        "x": 0.1,
        "y": 0.1
       },
       "content": {
        "cell": "b8d78a3d-d070-4eb1-83c9-c97170c5995f",
        "part": "whole"
       },
       "id": "1491a4da-2e57-4461-899e-7055b629337c"
      },
      "151da604-d5ac-4736-9d35-ac35403714ae": {
       "attrs": {
        "height": 0.4,
        "width": 0.8,
        "x": 0.1,
        "y": 0.5
       },
       "content": {
        "cell": "6785f03d-15c6-4989-ab8d-4b977afbe44d",
        "part": "whole"
       },
       "id": "151da604-d5ac-4736-9d35-ac35403714ae"
      },
      "252ee2c1-88ec-4d25-8432-a6f91666972d": {
       "attrs": {
        "height": 0.4,
        "width": 0.8,
        "x": 0.1,
        "y": 0.5
       },
       "content": {
        "cell": "1d72c011-915f-4912-9178-ce27a375560c",
        "part": "whole"
       },
       "id": "252ee2c1-88ec-4d25-8432-a6f91666972d"
      },
      "3df4cdfe-b4dd-44fc-9f54-5921928b54cb": {
       "attrs": {
        "height": 0.4,
        "width": 0.8,
        "x": 0.1,
        "y": 0.5
       },
       "content": {
        "cell": "4a7401e5-1c83-4613-b12e-3f367b2ba8a7",
        "part": "whole"
       },
       "id": "3df4cdfe-b4dd-44fc-9f54-5921928b54cb"
      },
      "9e29b158-2b55-4a01-b7c3-5c4d9b9828e7": {
       "attrs": {
        "height": 0.4,
        "width": 0.8,
        "x": 0.1,
        "y": 0.5
       },
       "content": {
        "cell": "605003af-e83e-4438-b517-4a1c025304ef",
        "part": "whole"
       },
       "id": "9e29b158-2b55-4a01-b7c3-5c4d9b9828e7"
      }
     }
    },
    "b1d776f2-d474-4ed9-b1c9-d21ff6ee1d2e": {
     "id": "b1d776f2-d474-4ed9-b1c9-d21ff6ee1d2e",
     "prev": "00c663d8-9a99-4ea0-95bf-8610abc3928c",
     "regions": {
      "1838caed-0b80-4cc3-8762-d3540e362d18": {
       "attrs": {
        "height": 0.4,
        "width": 0.8,
        "x": 0.1,
        "y": 0.5
       },
       "content": {
        "cell": "533780b8-5f44-4066-8384-ae9756225abd",
        "part": "whole"
       },
       "id": "1838caed-0b80-4cc3-8762-d3540e362d18"
      },
      "18db99aa-8e35-40cb-8f66-5ce5cdc7a455": {
       "attrs": {
        "height": 0.4,
        "width": 0.8,
        "x": 0.1,
        "y": 0.5
       },
       "content": {
        "cell": "fbc16e37-4bca-4c59-9ff5-1fb59a71ec6a",
        "part": "whole"
       },
       "id": "18db99aa-8e35-40cb-8f66-5ce5cdc7a455"
      },
      "2cc0dbec-3822-442c-ad82-b5676cb787f3": {
       "attrs": {
        "height": 0.8,
        "width": 0.8,
        "x": 0.1,
        "y": 0.1
       },
       "content": {
        "cell": "70f087f6-e827-4400-8c53-b6d876dab04a",
        "part": "whole"
       },
       "id": "2cc0dbec-3822-442c-ad82-b5676cb787f3"
      },
      "7f93fe86-4608-45e2-94e1-db0a235a330d": {
       "attrs": {
        "height": 0.4,
        "width": 0.8,
        "x": 0.1,
        "y": 0.5
       },
       "content": {
        "cell": "f7a6b7ff-802c-4389-9082-ca0d187f08c4",
        "part": "whole"
       },
       "id": "7f93fe86-4608-45e2-94e1-db0a235a330d"
      },
      "857567f7-7df7-480a-91fb-0f9820a26bf8": {
       "attrs": {
        "height": 0.4,
        "width": 0.8,
        "x": 0.1,
        "y": 0.5
       },
       "content": {
        "cell": "79737bba-0156-435f-bf92-5168ea3a4afa",
        "part": "whole"
       },
       "id": "857567f7-7df7-480a-91fb-0f9820a26bf8"
      },
      "f9958e17-da04-478a-ad33-7925ec39e272": {
       "attrs": {
        "height": 0.4,
        "width": 0.8,
        "x": 0.1,
        "y": 0.5
       },
       "content": {
        "cell": "d39d2123-9434-4f66-ba51-9a5e93d3d870",
        "part": "whole"
       },
       "id": "f9958e17-da04-478a-ad33-7925ec39e272"
      }
     }
    },
    "b352187d-0afd-4958-be61-502e97bfff0e": {
     "id": "b352187d-0afd-4958-be61-502e97bfff0e",
     "prev": "815f27f6-85c3-4ec6-b91e-793825de2f61",
     "regions": {
      "724e71f3-9b23-4b8e-b521-e736c8291e2e": {
       "attrs": {
        "height": 0.8,
        "width": 0.8,
        "x": 0.1,
        "y": 0.1
       },
       "content": {
        "cell": "50d79813-43d0-4d51-9859-0c4cf84c1fbc",
        "part": "whole"
       },
       "id": "724e71f3-9b23-4b8e-b521-e736c8291e2e"
      },
      "b455c310-b20a-4559-a3cb-60d7cdef0d26": {
       "attrs": {
        "height": 0.4,
        "width": 0.8,
        "x": 0.1,
        "y": 0.5
       },
       "content": {
        "cell": "60e1bbc9-16ca-4b5c-b567-56fcaa4a3068",
        "part": "whole"
       },
       "id": "b455c310-b20a-4559-a3cb-60d7cdef0d26"
      },
      "d07edd5a-0889-4776-87e2-fccefea5252a": {
       "attrs": {
        "height": 0.4,
        "width": 0.8,
        "x": 0.1,
        "y": 0.5
       },
       "content": {
        "cell": "67e4b4ee-e116-4152-bc28-b49790d5ff7a",
        "part": "whole"
       },
       "id": "d07edd5a-0889-4776-87e2-fccefea5252a"
      },
      "f3799f4d-d511-4774-b9b0-cf04ea784ca2": {
       "attrs": {
        "height": 0.4,
        "width": 0.8,
        "x": 0.1,
        "y": 0.5
       },
       "content": {
        "cell": "d38f6e6a-1491-4fb7-ac9e-0b12901e7e88",
        "part": "whole"
       },
       "id": "f3799f4d-d511-4774-b9b0-cf04ea784ca2"
      },
      "f6c5071a-b932-4d55-b0ea-84cb3c47c47d": {
       "attrs": {
        "height": 0.4,
        "width": 0.8,
        "x": 0.1,
        "y": 0.5
       },
       "content": {
        "cell": "5dbd0c26-0a7a-490d-ba4b-41c7fa83bbb6",
        "part": "whole"
       },
       "id": "f6c5071a-b932-4d55-b0ea-84cb3c47c47d"
      },
      "fb48f560-9a49-465f-a082-d09c09eeda45": {
       "attrs": {
        "height": 0.4,
        "width": 0.8,
        "x": 0.1,
        "y": 0.5
       },
       "content": {
        "cell": "df2dbe72-66e1-448b-9b1f-c6b8a4ab7fa4",
        "part": "whole"
       },
       "id": "fb48f560-9a49-465f-a082-d09c09eeda45"
      }
     }
    },
    "c600658c-c9c5-46d9-8d11-d2f651ba39d5": {
     "id": "c600658c-c9c5-46d9-8d11-d2f651ba39d5",
     "prev": "b1d776f2-d474-4ed9-b1c9-d21ff6ee1d2e",
     "regions": {
      "145cef19-c5e5-4cc6-a231-0b6c43550f74": {
       "attrs": {
        "height": 0.8,
        "width": 0.8,
        "x": 0.1,
        "y": 0.1
       },
       "content": {
        "cell": "064c201c-d9b9-4fe0-97cb-b38716f771cc",
        "part": "whole"
       },
       "id": "145cef19-c5e5-4cc6-a231-0b6c43550f74"
      },
      "1c1afb22-6d60-4a88-b8e8-fdf69ee955f7": {
       "attrs": {
        "height": 0.4,
        "width": 0.8,
        "x": 0.1,
        "y": 0.5
       },
       "content": {
        "cell": "87280a7b-a120-49f0-856f-9d1c5b3fe9b3",
        "part": "whole"
       },
       "id": "1c1afb22-6d60-4a88-b8e8-fdf69ee955f7"
      },
      "21a45a80-25ff-441e-bb3e-869601d09752": {
       "attrs": {
        "height": 0.4,
        "width": 0.8,
        "x": 0.1,
        "y": 0.5
       },
       "content": {
        "cell": "24050eb4-ba9c-4070-b1ea-bd4207c0a1bc",
        "part": "whole"
       },
       "id": "21a45a80-25ff-441e-bb3e-869601d09752"
      },
      "a2cf0089-e55d-45dc-b548-aaf2c7bb1e57": {
       "attrs": {
        "height": 0.4,
        "width": 0.8,
        "x": 0.1,
        "y": 0.5
       },
       "content": {
        "cell": "995cbd34-f365-443c-b98e-2eb4ac505285",
        "part": "whole"
       },
       "id": "a2cf0089-e55d-45dc-b548-aaf2c7bb1e57"
      }
     }
    },
    "d5b434af-05e4-4601-bd12-d273476539c6": {
     "id": "d5b434af-05e4-4601-bd12-d273476539c6",
     "prev": "f695c5fe-f366-485b-ace4-6b9e615cef2b",
     "regions": {
      "16bdaca8-a285-4d55-bb84-4f166aaedf17": {
       "attrs": {
        "height": 0.4,
        "width": 0.8,
        "x": 0.1,
        "y": 0.5
       },
       "content": {
        "cell": "184d55fa-3b43-42f2-86b5-d7ea3bfd4642",
        "part": "whole"
       },
       "id": "16bdaca8-a285-4d55-bb84-4f166aaedf17"
      },
      "208f1b3e-5b8b-41e1-af0b-5b6921a41bc9": {
       "attrs": {
        "height": 0.4,
        "width": 0.8,
        "x": 0.1,
        "y": 0.5
       },
       "content": {
        "cell": "eb7cc145-b319-441f-ae87-f164e2567dee",
        "part": "whole"
       },
       "id": "208f1b3e-5b8b-41e1-af0b-5b6921a41bc9"
      },
      "ccf7d3ad-9d68-453f-a53b-f2f306eb45f3": {
       "attrs": {
        "height": 0.4,
        "width": 0.8,
        "x": 0.1,
        "y": 0.5
       },
       "content": {
        "cell": "d71d3ced-acfc-4b7f-a6a4-c1d49be4f842",
        "part": "whole"
       },
       "id": "ccf7d3ad-9d68-453f-a53b-f2f306eb45f3"
      },
      "d48b20cd-679a-444f-824d-697ca48758da": {
       "attrs": {
        "height": 0.4,
        "width": 0.8,
        "x": 0.1,
        "y": 0.5
       },
       "content": {
        "cell": "4fc743af-3949-4560-821c-7cf473ef3890",
        "part": "whole"
       },
       "id": "d48b20cd-679a-444f-824d-697ca48758da"
      },
      "fe6f772c-e34a-4a1a-baab-9bbbeae2cc9d": {
       "attrs": {
        "height": 0.8,
        "width": 0.8,
        "x": 0.1,
        "y": 0.1
       },
       "content": {
        "cell": "86a35b53-933f-410e-9670-39c42a3c359d",
        "part": "whole"
       },
       "id": "fe6f772c-e34a-4a1a-baab-9bbbeae2cc9d"
      }
     }
    },
    "e4e13079-cc23-4ec3-aba1-693d91acbf97": {
     "id": "e4e13079-cc23-4ec3-aba1-693d91acbf97",
     "prev": "d5b434af-05e4-4601-bd12-d273476539c6",
     "regions": {
      "0093c945-4c97-4c79-9059-cb213fbe4456": {
       "attrs": {
        "height": 0.8,
        "width": 0.8,
        "x": 0.1,
        "y": 0.1
       },
       "content": {
        "cell": "4976d385-8b2a-412f-8215-bdcd0ededacb",
        "part": "whole"
       },
       "id": "0093c945-4c97-4c79-9059-cb213fbe4456"
      },
      "056383ed-1ce5-4e51-a111-5855bd5b2947": {
       "attrs": {
        "height": 0.4,
        "width": 0.8,
        "x": 0.1,
        "y": 0.5
       },
       "content": {
        "cell": "ed58f00c-a320-4ec7-ba3d-4fb6d4131b49",
        "part": "whole"
       },
       "id": "056383ed-1ce5-4e51-a111-5855bd5b2947"
      },
      "18639b28-81d2-4789-a056-0fb210018d0c": {
       "attrs": {
        "height": 0.4,
        "width": 0.8,
        "x": 0.1,
        "y": 0.5
       },
       "content": {
        "cell": "46369960-9a5c-402f-a079-0ae83001e143",
        "part": "whole"
       },
       "id": "18639b28-81d2-4789-a056-0fb210018d0c"
      },
      "2727f97f-44ae-489c-988d-08283e5bb078": {
       "attrs": {
        "height": 0.4,
        "width": 0.8,
        "x": 0.1,
        "y": 0.5
       },
       "content": {
        "cell": "0753d581-2842-4591-a43a-4c51b2822380",
        "part": "whole"
       },
       "id": "2727f97f-44ae-489c-988d-08283e5bb078"
      },
      "2dd409a8-81d8-49ac-b42e-336054bf034a": {
       "attrs": {
        "height": 0.4,
        "width": 0.8,
        "x": 0.1,
        "y": 0.5
       },
       "content": {
        "cell": "6b841e86-d57a-4682-a5e5-ef00fa5a2d29",
        "part": "whole"
       },
       "id": "2dd409a8-81d8-49ac-b42e-336054bf034a"
      },
      "2df3d8dd-5a0e-4dd0-9a87-3c9f8ddd6237": {
       "attrs": {
        "height": 0.4,
        "width": 0.8,
        "x": 0.1,
        "y": 0.5
       },
       "content": {
        "cell": "cb3732a6-624b-44ad-a8d2-665c1d3d854c",
        "part": "whole"
       },
       "id": "2df3d8dd-5a0e-4dd0-9a87-3c9f8ddd6237"
      },
      "47a866d8-1fff-4773-b5c0-0765721a3e18": {
       "attrs": {
        "height": 0.4,
        "width": 0.8,
        "x": 0.1,
        "y": 0.5
       },
       "content": {
        "cell": "ca44b925-9b08-40c6-bfa8-46f0853c5d89",
        "part": "whole"
       },
       "id": "47a866d8-1fff-4773-b5c0-0765721a3e18"
      },
      "4cf8dbe7-ff51-47e9-875b-7953592c8240": {
       "attrs": {
        "height": 0.4,
        "width": 0.8,
        "x": 0.1,
        "y": 0.5
       },
       "content": {
        "cell": "59ad22bb-9228-4765-907d-578aac624cc8",
        "part": "whole"
       },
       "id": "4cf8dbe7-ff51-47e9-875b-7953592c8240"
      },
      "4febafbb-292b-412c-99d1-2ea47509f959": {
       "attrs": {
        "height": 0.4,
        "width": 0.8,
        "x": 0.1,
        "y": 0.5
       },
       "content": {
        "cell": "16b6890c-a300-4124-a4ab-f6313e15b9f3",
        "part": "whole"
       },
       "id": "4febafbb-292b-412c-99d1-2ea47509f959"
      },
      "561cf561-dd20-48f2-b8da-6ae455ae6082": {
       "attrs": {
        "height": 0.4,
        "width": 0.8,
        "x": 0.1,
        "y": 0.5
       },
       "content": {
        "cell": "5a421e7d-4e4c-4122-9e74-2869053c8640",
        "part": "whole"
       },
       "id": "561cf561-dd20-48f2-b8da-6ae455ae6082"
      },
      "793d2c7a-4586-436f-bd46-3b2033c43af6": {
       "attrs": {
        "height": 0.4,
        "width": 0.8,
        "x": 0.1,
        "y": 0.5
       },
       "content": {
        "cell": "59821909-1438-45da-abe0-39677c0aa353",
        "part": "whole"
       },
       "id": "793d2c7a-4586-436f-bd46-3b2033c43af6"
      },
      "b1f76860-d360-4556-95f8-8715acb9cea1": {
       "attrs": {
        "height": 0.4,
        "width": 0.8,
        "x": 0.1,
        "y": 0.5
       },
       "content": {
        "cell": "87281c68-69df-40f8-90db-7771fd9fc69a",
        "part": "whole"
       },
       "id": "b1f76860-d360-4556-95f8-8715acb9cea1"
      },
      "b93ec8da-9af6-4108-8868-89f7ee14f8bb": {
       "attrs": {
        "height": 0.4,
        "width": 0.8,
        "x": 0.1,
        "y": 0.5
       },
       "content": {
        "cell": "f20f41fd-c3f0-4b4a-89d3-f20ffaef2647",
        "part": "whole"
       },
       "id": "b93ec8da-9af6-4108-8868-89f7ee14f8bb"
      },
      "ba35b9fd-074d-47ba-83a7-3896ecef2438": {
       "attrs": {
        "height": 0.4,
        "width": 0.8,
        "x": 0.1,
        "y": 0.5
       },
       "content": {
        "cell": "ae352389-7eb9-489f-8c7e-630c4e2e3cd5",
        "part": "whole"
       },
       "id": "ba35b9fd-074d-47ba-83a7-3896ecef2438"
      },
      "c3a98278-08e0-4699-92f6-928a97ab6ee1": {
       "attrs": {
        "height": 0.4,
        "width": 0.8,
        "x": 0.1,
        "y": 0.5
       },
       "content": {
        "cell": "5ebb90cb-5c8e-4066-9d27-e2bdc06f8fe1",
        "part": "whole"
       },
       "id": "c3a98278-08e0-4699-92f6-928a97ab6ee1"
      },
      "c7a6b435-7044-4ddc-8e9b-7e24b0a8af55": {
       "attrs": {
        "height": 0.4,
        "width": 0.8,
        "x": 0.1,
        "y": 0.5
       },
       "content": {
        "cell": "36a4ad4c-91f5-43da-b7a9-fa15bd044e2b",
        "part": "whole"
       },
       "id": "c7a6b435-7044-4ddc-8e9b-7e24b0a8af55"
      },
      "d5c9e694-943a-422c-9ff3-055851000055": {
       "attrs": {
        "height": 0.4,
        "width": 0.8,
        "x": 0.1,
        "y": 0.5
       },
       "content": {
        "cell": "780980fa-1e39-4539-afee-e1662803bcf5",
        "part": "whole"
       },
       "id": "d5c9e694-943a-422c-9ff3-055851000055"
      },
      "da507c4a-55c0-4967-8e0d-66f25706e0d6": {
       "attrs": {
        "height": 0.4,
        "width": 0.8,
        "x": 0.1,
        "y": 0.5
       },
       "content": {
        "cell": "8528abb0-d64e-4bfc-932b-6b0aa47613e1",
        "part": "whole"
       },
       "id": "da507c4a-55c0-4967-8e0d-66f25706e0d6"
      },
      "dd12a0b2-eaa6-41c7-afb6-149622eee7ca": {
       "attrs": {
        "height": 0.4,
        "width": 0.8,
        "x": 0.1,
        "y": 0.5
       },
       "content": {
        "cell": "204fc518-dc5a-4c27-a122-f293231a05a5",
        "part": "whole"
       },
       "id": "dd12a0b2-eaa6-41c7-afb6-149622eee7ca"
      },
      "fa34159c-7291-4e01-8d59-227d59f6d163": {
       "attrs": {
        "height": 0.4,
        "width": 0.8,
        "x": 0.1,
        "y": 0.5
       },
       "content": {
        "cell": "5ff58084-9a57-4292-acd3-cb453482475e",
        "part": "whole"
       },
       "id": "fa34159c-7291-4e01-8d59-227d59f6d163"
      },
      "fb189c93-ffd7-4ada-80e2-38d3913d739d": {
       "attrs": {
        "height": 0.4,
        "width": 0.8,
        "x": 0.1,
        "y": 0.5
       },
       "content": {
        "cell": "4b5c538f-5ef9-460e-bd22-f233c33edf01",
        "part": "whole"
       },
       "id": "fb189c93-ffd7-4ada-80e2-38d3913d739d"
      }
     }
    },
    "ea1ed231-5e90-471d-b7f6-e3b6e2552dae": {
     "id": "ea1ed231-5e90-471d-b7f6-e3b6e2552dae",
     "prev": "b352187d-0afd-4958-be61-502e97bfff0e",
     "regions": {
      "12959555-9ee2-4e72-b17c-2194a383b1fb": {
       "attrs": {
        "height": 0.4,
        "width": 0.8,
        "x": 0.1,
        "y": 0.5
       },
       "content": {
        "cell": "28cccf13-25ac-4864-ae87-61bb8d11cdf3",
        "part": "whole"
       },
       "id": "12959555-9ee2-4e72-b17c-2194a383b1fb"
      },
      "2536ac03-0050-4701-b90a-ee6c855b32ee": {
       "attrs": {
        "height": 0.4,
        "width": 0.8,
        "x": 0.1,
        "y": 0.5
       },
       "content": {
        "cell": "59a980d2-259b-4f91-b64f-e0f296369f2a",
        "part": "whole"
       },
       "id": "2536ac03-0050-4701-b90a-ee6c855b32ee"
      },
      "4e6626ca-df71-4f2b-b946-8c457e4e70f5": {
       "attrs": {
        "height": 0.4,
        "width": 0.8,
        "x": 0.1,
        "y": 0.5
       },
       "content": {
        "cell": "d0d6b634-7454-4cd0-acd6-8ad3a67ca63f",
        "part": "whole"
       },
       "id": "4e6626ca-df71-4f2b-b946-8c457e4e70f5"
      },
      "aacf4ecc-3f71-4d6f-88a1-70252f2c247a": {
       "attrs": {
        "height": 0.4,
        "width": 0.8,
        "x": 0.1,
        "y": 0.5
       },
       "content": {
        "cell": "5bde1aae-e3d6-452d-be7c-30f7ac1dba06",
        "part": "whole"
       },
       "id": "aacf4ecc-3f71-4d6f-88a1-70252f2c247a"
      },
      "f1260283-b427-4190-9840-e4af4ed65319": {
       "attrs": {
        "height": 0.8,
        "width": 0.8,
        "x": 0.1,
        "y": 0.1
       },
       "content": {
        "cell": "34ecd0e6-5b1e-47c4-b398-7464f0e65d7b",
        "part": "whole"
       },
       "id": "f1260283-b427-4190-9840-e4af4ed65319"
      }
     }
    },
    "f695c5fe-f366-485b-ace4-6b9e615cef2b": {
     "id": "f695c5fe-f366-485b-ace4-6b9e615cef2b",
     "prev": "c600658c-c9c5-46d9-8d11-d2f651ba39d5",
     "regions": {
      "045db87f-9107-4e31-9d16-37a4be2a2a7d": {
       "attrs": {
        "height": 0.4,
        "width": 0.8,
        "x": 0.1,
        "y": 0.5
       },
       "content": {
        "cell": "d930810d-ce52-422f-9980-fadf22de7fce",
        "part": "whole"
       },
       "id": "045db87f-9107-4e31-9d16-37a4be2a2a7d"
      },
      "37933f85-4f77-4d6c-b8e0-3f6af464eb47": {
       "attrs": {
        "height": 0.4,
        "width": 0.8,
        "x": 0.1,
        "y": 0.5
       },
       "content": {
        "cell": "229776c7-eadf-4aa1-b203-482518cd372b",
        "part": "whole"
       },
       "id": "37933f85-4f77-4d6c-b8e0-3f6af464eb47"
      },
      "42a79347-3adf-4cdb-8920-2f3de8c4aac7": {
       "attrs": {
        "height": 0.4,
        "width": 0.8,
        "x": 0.1,
        "y": 0.5
       },
       "content": {
        "cell": "1c02def8-14ab-4b80-afbb-2ec34323b6ec",
        "part": "whole"
       },
       "id": "42a79347-3adf-4cdb-8920-2f3de8c4aac7"
      },
      "9dc9d029-df2c-4230-93e2-1ec2e9564e85": {
       "attrs": {
        "height": 0.8,
        "width": 0.8,
        "x": 0.1,
        "y": 0.1
       },
       "content": {
        "cell": "678c76c3-4f07-46dd-a5e8-8584a3c2cbd4",
        "part": "whole"
       },
       "id": "9dc9d029-df2c-4230-93e2-1ec2e9564e85"
      },
      "cb6c0a52-2720-44aa-99af-3754da426843": {
       "attrs": {
        "height": 0.4,
        "width": 0.8,
        "x": 0.1,
        "y": 0.5
       },
       "content": {
        "cell": "8a74bcb1-d017-4f60-a3f4-69e2bd311646",
        "part": "whole"
       },
       "id": "cb6c0a52-2720-44aa-99af-3754da426843"
      }
     }
    }
   },
   "themes": {}
  }
 },
 "nbformat": 4,
 "nbformat_minor": 0
}
